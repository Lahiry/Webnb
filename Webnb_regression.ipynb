{
 "cells": [
  {
   "cell_type": "markdown",
   "metadata": {},
   "source": [
    "# Webnb - Gradient Boosting Regressor"
   ]
  },
  {
   "cell_type": "code",
   "execution_count": 1,
   "metadata": {},
   "outputs": [],
   "source": [
    "import pandas as pd\n",
    "import numpy as np\n",
    "from sklearn.ensemble import GradientBoostingRegressor\n",
    "from sklearn.model_selection import train_test_split"
   ]
  },
  {
   "cell_type": "code",
   "execution_count": 2,
   "metadata": {},
   "outputs": [
    {
     "data": {
      "text/html": [
       "<div>\n",
       "<style scoped>\n",
       "    .dataframe tbody tr th:only-of-type {\n",
       "        vertical-align: middle;\n",
       "    }\n",
       "\n",
       "    .dataframe tbody tr th {\n",
       "        vertical-align: top;\n",
       "    }\n",
       "\n",
       "    .dataframe thead th {\n",
       "        text-align: right;\n",
       "    }\n",
       "</style>\n",
       "<table border=\"1\" class=\"dataframe\">\n",
       "  <thead>\n",
       "    <tr style=\"text-align: right;\">\n",
       "      <th></th>\n",
       "      <th>Título</th>\n",
       "      <th>Preço (R$)</th>\n",
       "      <th>Avaliação</th>\n",
       "      <th>Bairro</th>\n",
       "      <th>Imóvel</th>\n",
       "      <th>Hóspedes</th>\n",
       "      <th>Camas</th>\n",
       "      <th>Quartos</th>\n",
       "      <th>Banheiros</th>\n",
       "      <th>Cozinha</th>\n",
       "      <th>Wi-Fi</th>\n",
       "      <th>Piscina</th>\n",
       "    </tr>\n",
       "  </thead>\n",
       "  <tbody>\n",
       "    <tr>\n",
       "      <td>0</td>\n",
       "      <td>FLAT PARTICULAR NO MELIA  - AV. IBIRAPUERA</td>\n",
       "      <td>110</td>\n",
       "      <td>4.90</td>\n",
       "      <td>Indianópolis</td>\n",
       "      <td>Flat inteiro</td>\n",
       "      <td>2</td>\n",
       "      <td>1</td>\n",
       "      <td>1</td>\n",
       "      <td>1</td>\n",
       "      <td>Tem</td>\n",
       "      <td>Tem</td>\n",
       "      <td>Tem</td>\n",
       "    </tr>\n",
       "    <tr>\n",
       "      <td>1</td>\n",
       "      <td>Studio novinho a 300 m metrô - Self check in</td>\n",
       "      <td>117</td>\n",
       "      <td>4.80</td>\n",
       "      <td>Consolacao</td>\n",
       "      <td>Apartamento inteiro</td>\n",
       "      <td>5</td>\n",
       "      <td>3</td>\n",
       "      <td>0</td>\n",
       "      <td>1</td>\n",
       "      <td>Tem</td>\n",
       "      <td>Tem</td>\n",
       "      <td>Tem</td>\n",
       "    </tr>\n",
       "    <tr>\n",
       "      <td>2</td>\n",
       "      <td>Studio encantador em São Paulo próximo ao metrô</td>\n",
       "      <td>110</td>\n",
       "      <td>4.87</td>\n",
       "      <td>Consolacao</td>\n",
       "      <td>Flat inteiro</td>\n",
       "      <td>2</td>\n",
       "      <td>1</td>\n",
       "      <td>1</td>\n",
       "      <td>1</td>\n",
       "      <td>Tem</td>\n",
       "      <td>Tem</td>\n",
       "      <td>Tem</td>\n",
       "    </tr>\n",
       "    <tr>\n",
       "      <td>3</td>\n",
       "      <td>Flat mobiliado ao lado do Hospital Sirio Libanês</td>\n",
       "      <td>80</td>\n",
       "      <td>4.61</td>\n",
       "      <td>Bela Vista</td>\n",
       "      <td>Flat inteiro</td>\n",
       "      <td>2</td>\n",
       "      <td>1</td>\n",
       "      <td>1</td>\n",
       "      <td>1</td>\n",
       "      <td>Tem</td>\n",
       "      <td>Tem</td>\n",
       "      <td>Não tem</td>\n",
       "    </tr>\n",
       "    <tr>\n",
       "      <td>4</td>\n",
       "      <td>Suíte moderna com cama de casal no Brooklin</td>\n",
       "      <td>54</td>\n",
       "      <td>4.89</td>\n",
       "      <td>Vila Olímpia</td>\n",
       "      <td>Quarto inteiro</td>\n",
       "      <td>2</td>\n",
       "      <td>1</td>\n",
       "      <td>1</td>\n",
       "      <td>1</td>\n",
       "      <td>Tem</td>\n",
       "      <td>Tem</td>\n",
       "      <td>Não tem</td>\n",
       "    </tr>\n",
       "  </tbody>\n",
       "</table>\n",
       "</div>"
      ],
      "text/plain": [
       "                                             Título  Preço (R$)  Avaliação  \\\n",
       "0        FLAT PARTICULAR NO MELIA  - AV. IBIRAPUERA         110       4.90   \n",
       "1      Studio novinho a 300 m metrô - Self check in         117       4.80   \n",
       "2   Studio encantador em São Paulo próximo ao metrô         110       4.87   \n",
       "3  Flat mobiliado ao lado do Hospital Sirio Libanês          80       4.61   \n",
       "4       Suíte moderna com cama de casal no Brooklin          54       4.89   \n",
       "\n",
       "         Bairro               Imóvel  Hóspedes  Camas  Quartos  Banheiros  \\\n",
       "0  Indianópolis         Flat inteiro         2      1        1          1   \n",
       "1    Consolacao  Apartamento inteiro         5      3        0          1   \n",
       "2    Consolacao         Flat inteiro         2      1        1          1   \n",
       "3    Bela Vista         Flat inteiro         2      1        1          1   \n",
       "4  Vila Olímpia       Quarto inteiro         2      1        1          1   \n",
       "\n",
       "  Cozinha Wi-Fi  Piscina  \n",
       "0     Tem   Tem      Tem  \n",
       "1     Tem   Tem      Tem  \n",
       "2     Tem   Tem      Tem  \n",
       "3     Tem   Tem  Não tem  \n",
       "4     Tem   Tem  Não tem  "
      ]
     },
     "execution_count": 2,
     "metadata": {},
     "output_type": "execute_result"
    }
   ],
   "source": [
    "dados = pd.read_csv('dados_anuncios_airbnb_tratados.csv')\n",
    "dados = dados.dropna()\n",
    "dados.head()"
   ]
  },
  {
   "cell_type": "markdown",
   "metadata": {},
   "source": [
    "## Separação dados de treino e teste"
   ]
  },
  {
   "cell_type": "code",
   "execution_count": 29,
   "metadata": {},
   "outputs": [],
   "source": [
    "X = dados[['Avaliação', 'Bairro', 'Imóvel', 'Hóspedes', 'Camas', 'Quartos', 'Banheiros', 'Cozinha', 'Wi-Fi', 'Piscina']]\n",
    "X = pd.get_dummies(data=X, drop_first=True)\n",
    "y = dados['Preço (R$)']"
   ]
  },
  {
   "cell_type": "code",
   "execution_count": 21,
   "metadata": {},
   "outputs": [],
   "source": [
    "X_train, X_test, y_train, y_test = train_test_split(X, y, random_state=0)"
   ]
  },
  {
   "cell_type": "code",
   "execution_count": 22,
   "metadata": {},
   "outputs": [
    {
     "data": {
      "text/plain": [
       "GradientBoostingRegressor(alpha=0.9, criterion='friedman_mse', init=None,\n",
       "                          learning_rate=0.1, loss='ls', max_depth=3,\n",
       "                          max_features=None, max_leaf_nodes=None,\n",
       "                          min_impurity_decrease=0.0, min_impurity_split=None,\n",
       "                          min_samples_leaf=1, min_samples_split=2,\n",
       "                          min_weight_fraction_leaf=0.0, n_estimators=100,\n",
       "                          n_iter_no_change=None, presort='auto', random_state=0,\n",
       "                          subsample=1.0, tol=0.0001, validation_fraction=0.1,\n",
       "                          verbose=0, warm_start=False)"
      ]
     },
     "execution_count": 22,
     "metadata": {},
     "output_type": "execute_result"
    }
   ],
   "source": [
    "reg = GradientBoostingRegressor(random_state=0)\n",
    "reg.fit(X_train, y_train)"
   ]
  },
  {
   "cell_type": "code",
   "execution_count": 24,
   "metadata": {},
   "outputs": [],
   "source": [
    "Y_pred = reg.predict(X_test)"
   ]
  },
  {
   "cell_type": "code",
   "execution_count": 27,
   "metadata": {},
   "outputs": [
    {
     "data": {
      "text/plain": [
       "0.528574978253935"
      ]
     },
     "execution_count": 27,
     "metadata": {},
     "output_type": "execute_result"
    }
   ],
   "source": [
    "R_squared = reg.score(X_test, y_test)\n",
    "R_squared"
   ]
  }
 ],
 "metadata": {
  "kernelspec": {
   "display_name": "Python 3",
   "language": "python",
   "name": "python3"
  },
  "language_info": {
   "codemirror_mode": {
    "name": "ipython",
    "version": 3
   },
   "file_extension": ".py",
   "mimetype": "text/x-python",
   "name": "python",
   "nbconvert_exporter": "python",
   "pygments_lexer": "ipython3",
   "version": "3.7.4"
  }
 },
 "nbformat": 4,
 "nbformat_minor": 5
}
