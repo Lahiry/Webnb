{
 "cells": [
  {
   "cell_type": "markdown",
   "id": "a2d155d4-0d49-4a51-bed9-b192cc209558",
   "metadata": {},
   "source": [
    "# Projeto Webnb"
   ]
  },
  {
   "cell_type": "markdown",
   "id": "a5dc86b7-65fd-4fdd-ad1e-253c147a2bd3",
   "metadata": {},
   "source": [
    "### Membros: Carolina Hirschheimer, Paulo Kim, Raphael Lahiry"
   ]
  },
  {
   "cell_type": "code",
   "execution_count": 1,
   "id": "02ad916c-87e6-497b-a074-040b33a7c7da",
   "metadata": {},
   "outputs": [],
   "source": [
    "# Bibliotecas úteis \n",
    "import numpy as np\n",
    "from bs4 import BeautifulSoup\n",
    "import requests\n",
    "import pandas as pd\n",
    "import seaborn as sns\n",
    "import re\n",
    "\n",
    "sns.set()"
   ]
  },
  {
   "cell_type": "markdown",
   "id": "632b9338-edc0-4842-9c3d-cf1453ff8b4d",
   "metadata": {},
   "source": [
    "# Extração dos Dados"
   ]
  },
  {
   "cell_type": "code",
   "execution_count": 2,
   "id": "dcc696ba-4637-4f15-8332-a74e23d9bffd",
   "metadata": {},
   "outputs": [],
   "source": [
    "url = 'https://www.airbnb.com.br/s/S%C3%A3o-Paulo-~-SP/homes?tab_id=home_tab&query=S%C3%A3o%20Paulo%20-%20SP&place_id=ChIJ0WGkg4FEzpQRrlsz_whLqZs&refinement_paths%5B%5D=%2Fhomes&flexible_trip_dates%5B%5D=june&flexible_trip_dates%5B%5D=may&flexible_trip_lengths%5B%5D=weekend_trip&date_picker_type=calendar&disable_auto_translation=false&source=structured_search_input_header&search_type=autocomplete_click'\n",
    "resposta = requests.get(url = url)\n",
    "resposta.encoding = 'utf-8'"
   ]
  },
  {
   "cell_type": "code",
   "execution_count": 3,
   "id": "51d4eb66-95e6-49ea-8a77-012bd71ac248",
   "metadata": {},
   "outputs": [],
   "source": [
    "soup = BeautifulSoup(resposta.text, 'html.parser'); "
   ]
  },
  {
   "cell_type": "code",
   "execution_count": 65,
   "id": "147aaad1-29ab-4444-b68f-9c3a946513c1",
   "metadata": {},
   "outputs": [
    {
     "data": {
      "text/plain": [
       "'/s/São-Paulo-~-SP/homes?tab_id=home_tab&refinement_paths%5B%5D=%2Fhomes&flexible_trip_dates%5B%5D=june&flexible_trip_dates%5B%5D=may&flexible_trip_lengths%5B%5D=weekend_trip&date_picker_type=calendar&source=structured_search_input_header&search_type=pagination&place_id=ChIJ0WGkg4FEzpQRrlsz_whLqZs&federated_search_session_id=2a869747-15b7-4a9a-b137-e9eda8670bb3&items_offset=30&section_offset=3'"
      ]
     },
     "execution_count": 65,
     "metadata": {},
     "output_type": "execute_result"
    }
   ],
   "source": [
    "soup.findAll('a', class_=\"_1y623pm\")[0].attrs['href'] # página atual"
   ]
  },
  {
   "cell_type": "code",
   "execution_count": 66,
   "id": "3bd04297-58f6-457a-9a97-b09fefc9845e",
   "metadata": {},
   "outputs": [],
   "source": [
    "anuncios = soup.findAll('div', class_='_8ssblpx') # anúncios"
   ]
  },
  {
   "cell_type": "code",
   "execution_count": 67,
   "id": "a81cb217-5d16-4417-94e5-26ca991a9a0e",
   "metadata": {},
   "outputs": [],
   "source": [
    "lista_titulo = []\n",
    "lista_bairro = []\n",
    "lista_imovel = []\n",
    "lista_preco = []\n",
    "lista_avaliacao = []\n",
    "texto_caracteristicas = []\n",
    "lista_caracteristicas = []\n",
    "\n",
    "for i in range(0, len(anuncios)):\n",
    "\n",
    "    anuncio = anuncios[i]\n",
    "\n",
    "    titulo = anuncio.find('meta', itemprop='name').attrs['content']\n",
    "    lista_titulo.append(titulo)\n",
    "    \n",
    "    bairro = anuncio.find('div', class_=\"_b14dlit\").get_text().split(' em ')[1]\n",
    "    lista_bairro.append(bairro)\n",
    "    \n",
    "    tipo_imovel = anuncio.find('div', class_=\"_b14dlit\").get_text().split(' em ')[0]\n",
    "    lista_imovel.append(tipo_imovel)\n",
    "    \n",
    "    caracteristicas = anuncio.findAll('span', class_=\"_3hmsj\")[2:]\n",
    "    for caracteristica in caracteristicas:\n",
    "        texto_caracteristicas.append(caracteristica.get_text())\n",
    "    lista_caracteristicas.append(texto_caracteristicas)\n",
    "    \n",
    "    preco = anuncio.find('span', class_=\"_155sga30\").get_text()\n",
    "    lista_preco.append(preco)\n",
    "    \n",
    "    avaliacao = anuncio.find('span', class_=\"_10fy1f8\")\n",
    "    if avaliacao is not None:\n",
    "        avaliacao = anuncio.find('span', class_=\"_10fy1f8\").get_text()\n",
    "    else:\n",
    "        avaliacao = np.nan\n",
    "    lista_avaliacao.append(avaliacao)"
   ]
  },
  {
   "cell_type": "code",
   "execution_count": 68,
   "id": "c389d200-b635-40d2-b17e-064260a6cf99",
   "metadata": {},
   "outputs": [],
   "source": [
    "dados = pd.DataFrame({'Título': lista_titulo,\n",
    "                      'Preço': lista_preco,\n",
    "                      'Avaliação': lista_avaliacao,\n",
    "                      'Bairro': lista_bairro,\n",
    "                      'Imóvel': lista_imovel,\n",
    "                      'Características': lista_caracteristicas\n",
    "                     })"
   ]
  },
  {
   "cell_type": "code",
   "execution_count": 70,
   "id": "e094e3c1-1e2d-46d0-9340-59721c48c1e2",
   "metadata": {},
   "outputs": [
    {
     "data": {
      "text/html": [
       "<div>\n",
       "<style scoped>\n",
       "    .dataframe tbody tr th:only-of-type {\n",
       "        vertical-align: middle;\n",
       "    }\n",
       "\n",
       "    .dataframe tbody tr th {\n",
       "        vertical-align: top;\n",
       "    }\n",
       "\n",
       "    .dataframe thead th {\n",
       "        text-align: right;\n",
       "    }\n",
       "</style>\n",
       "<table border=\"1\" class=\"dataframe\">\n",
       "  <thead>\n",
       "    <tr style=\"text-align: right;\">\n",
       "      <th></th>\n",
       "      <th>Título</th>\n",
       "      <th>Preço</th>\n",
       "      <th>Avaliação</th>\n",
       "      <th>Bairro</th>\n",
       "      <th>Imóvel</th>\n",
       "      <th>Características</th>\n",
       "    </tr>\n",
       "  </thead>\n",
       "  <tbody>\n",
       "    <tr>\n",
       "      <th>0</th>\n",
       "      <td>Studio 714 Setin Downtown São Luís</td>\n",
       "      <td>R$100</td>\n",
       "      <td>5.0</td>\n",
       "      <td>Consolacao</td>\n",
       "      <td>Apartamento inteiro</td>\n",
       "      <td>[2 hóspedes, Estúdio, 1 cama, 1 banheiro, Wi-F...</td>\n",
       "    </tr>\n",
       "    <tr>\n",
       "      <th>1</th>\n",
       "      <td>Studio novinho a 300 m metrô - Self check in</td>\n",
       "      <td>R$117</td>\n",
       "      <td>4.80</td>\n",
       "      <td>Consolacao</td>\n",
       "      <td>Apartamento inteiro</td>\n",
       "      <td>[2 hóspedes, Estúdio, 1 cama, 1 banheiro, Wi-F...</td>\n",
       "    </tr>\n",
       "    <tr>\n",
       "      <th>2</th>\n",
       "      <td>Studio encantador em São Paulo próximo ao metrô</td>\n",
       "      <td>R$109</td>\n",
       "      <td>4.87</td>\n",
       "      <td>Consolacao</td>\n",
       "      <td>Flat inteiro</td>\n",
       "      <td>[2 hóspedes, Estúdio, 1 cama, 1 banheiro, Wi-F...</td>\n",
       "    </tr>\n",
       "    <tr>\n",
       "      <th>3</th>\n",
       "      <td>AP.  mobiliado  com vaga próximo Av. Paulista</td>\n",
       "      <td>R$67</td>\n",
       "      <td>NaN</td>\n",
       "      <td>Bela Vista</td>\n",
       "      <td>Apartamento inteiro</td>\n",
       "      <td>[2 hóspedes, Estúdio, 1 cama, 1 banheiro, Wi-F...</td>\n",
       "    </tr>\n",
       "    <tr>\n",
       "      <th>4</th>\n",
       "      <td>Flat mobiliado ao lado do Hospital Sirio Libanês</td>\n",
       "      <td>R$80</td>\n",
       "      <td>4.61</td>\n",
       "      <td>Bela Vista</td>\n",
       "      <td>Flat inteiro</td>\n",
       "      <td>[2 hóspedes, Estúdio, 1 cama, 1 banheiro, Wi-F...</td>\n",
       "    </tr>\n",
       "  </tbody>\n",
       "</table>\n",
       "</div>"
      ],
      "text/plain": [
       "                                             Título  Preço Avaliação  \\\n",
       "0                Studio 714 Setin Downtown São Luís  R$100       5.0   \n",
       "1      Studio novinho a 300 m metrô - Self check in  R$117      4.80   \n",
       "2   Studio encantador em São Paulo próximo ao metrô  R$109      4.87   \n",
       "3     AP.  mobiliado  com vaga próximo Av. Paulista   R$67       NaN   \n",
       "4  Flat mobiliado ao lado do Hospital Sirio Libanês   R$80      4.61   \n",
       "\n",
       "       Bairro               Imóvel  \\\n",
       "0  Consolacao  Apartamento inteiro   \n",
       "1  Consolacao  Apartamento inteiro   \n",
       "2  Consolacao         Flat inteiro   \n",
       "3  Bela Vista  Apartamento inteiro   \n",
       "4  Bela Vista         Flat inteiro   \n",
       "\n",
       "                                     Características  \n",
       "0  [2 hóspedes, Estúdio, 1 cama, 1 banheiro, Wi-F...  \n",
       "1  [2 hóspedes, Estúdio, 1 cama, 1 banheiro, Wi-F...  \n",
       "2  [2 hóspedes, Estúdio, 1 cama, 1 banheiro, Wi-F...  \n",
       "3  [2 hóspedes, Estúdio, 1 cama, 1 banheiro, Wi-F...  \n",
       "4  [2 hóspedes, Estúdio, 1 cama, 1 banheiro, Wi-F...  "
      ]
     },
     "execution_count": 70,
     "metadata": {},
     "output_type": "execute_result"
    }
   ],
   "source": [
    "dados.head()"
   ]
  }
 ],
 "metadata": {
  "kernelspec": {
   "display_name": "Python 3",
   "language": "python",
   "name": "python3"
  },
  "language_info": {
   "codemirror_mode": {
    "name": "ipython",
    "version": 3
   },
   "file_extension": ".py",
   "mimetype": "text/x-python",
   "name": "python",
   "nbconvert_exporter": "python",
   "pygments_lexer": "ipython3",
   "version": "3.8.8"
  }
 },
 "nbformat": 4,
 "nbformat_minor": 5
}
