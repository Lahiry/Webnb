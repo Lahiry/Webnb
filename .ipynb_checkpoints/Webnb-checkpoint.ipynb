{
 "cells": [
  {
   "cell_type": "markdown",
   "id": "a2d155d4-0d49-4a51-bed9-b192cc209558",
   "metadata": {},
   "source": [
    "# Projeto Webnb"
   ]
  },
  {
   "cell_type": "markdown",
   "id": "a5dc86b7-65fd-4fdd-ad1e-253c147a2bd3",
   "metadata": {},
   "source": [
    "### Membros: Carolina Hirschheimer, Paulo Kim, Raphael Lahiry"
   ]
  },
  {
   "cell_type": "code",
   "execution_count": 1,
   "id": "02ad916c-87e6-497b-a074-040b33a7c7da",
   "metadata": {},
   "outputs": [],
   "source": [
    "# Bibliotecas úteis \n",
    "import numpy as np\n",
    "from bs4 import BeautifulSoup\n",
    "import requests\n",
    "import pandas as pd\n",
    "import seaborn as sns\n",
    "import re\n",
    "\n",
    "sns.set()"
   ]
  },
  {
   "cell_type": "markdown",
   "id": "5c9031be-7811-45a6-8053-6aa16b34bd48",
   "metadata": {},
   "source": [
    "Informações a serem buscadas\n",
    "- Título do anúncio\n",
    "- Tipo imóvel \n",
    "- Bairro\n",
    "- Número de hóspedes\n",
    "- Número de quartos\n",
    "- Número de banheiros\n",
    "- Cozinha?\n",
    "- Wi-Fi?\n",
    "- Preço\n",
    "- Avaliação"
   ]
  },
  {
   "cell_type": "markdown",
   "id": "632b9338-edc0-4842-9c3d-cf1453ff8b4d",
   "metadata": {},
   "source": [
    "# Extração dos Dados"
   ]
  },
  {
   "cell_type": "code",
   "execution_count": 2,
   "id": "dcc696ba-4637-4f15-8332-a74e23d9bffd",
   "metadata": {},
   "outputs": [],
   "source": [
    "url = 'https://www.airbnb.com.br/s/S%C3%A3o-Paulo-~-SP/homes?tab_id=home_tab&query=S%C3%A3o%20Paulo%20-%20SP&place_id=ChIJ0WGkg4FEzpQRrlsz_whLqZs&refinement_paths%5B%5D=%2Fhomes&flexible_trip_dates%5B%5D=june&flexible_trip_dates%5B%5D=may&flexible_trip_lengths%5B%5D=weekend_trip&date_picker_type=calendar&disable_auto_translation=false&source=structured_search_input_header&search_type=autocomplete_click'\n",
    "resposta = requests.get(url = url)\n",
    "resposta.encoding = 'utf-8'"
   ]
  },
  {
   "cell_type": "code",
   "execution_count": 3,
   "id": "51d4eb66-95e6-49ea-8a77-012bd71ac248",
   "metadata": {},
   "outputs": [],
   "source": [
    "soup = BeautifulSoup(resposta.text, 'html.parser'); "
   ]
  },
  {
   "cell_type": "code",
   "execution_count": 4,
   "id": "147aaad1-29ab-4444-b68f-9c3a946513c1",
   "metadata": {},
   "outputs": [
    {
     "data": {
      "text/plain": [
       "'/s/São-Paulo-~-SP/homes?tab_id=home_tab&refinement_paths%5B%5D=%2Fhomes&flexible_trip_dates%5B%5D=june&flexible_trip_dates%5B%5D=may&flexible_trip_lengths%5B%5D=weekend_trip&date_picker_type=calendar&source=structured_search_input_header&search_type=pagination&place_id=ChIJ0WGkg4FEzpQRrlsz_whLqZs&federated_search_session_id=a2e278db-05ec-4ec4-a379-f111bb14ba02&items_offset=30&section_offset=3'"
      ]
     },
     "execution_count": 4,
     "metadata": {},
     "output_type": "execute_result"
    }
   ],
   "source": [
    "soup.findAll('a', class_=\"_1y623pm\")[0].attrs['href']"
   ]
  },
  {
   "cell_type": "code",
   "execution_count": 5,
   "id": "3bd04297-58f6-457a-9a97-b09fefc9845e",
   "metadata": {},
   "outputs": [],
   "source": [
    "anuncios = soup.findAll('div', class_='_8ssblpx') # lista anúncios"
   ]
  },
  {
   "cell_type": "code",
   "execution_count": 6,
   "id": "42456639-7fab-4013-8432-6f22085c4525",
   "metadata": {},
   "outputs": [
    {
     "data": {
      "text/plain": [
       "'Studio novinho a 300 m metrô - Self check in'"
      ]
     },
     "execution_count": 6,
     "metadata": {},
     "output_type": "execute_result"
    }
   ],
   "source": [
    "anuncios[1].find('meta', itemprop='name').attrs['content'] # titulo do anuncio"
   ]
  },
  {
   "cell_type": "code",
   "execution_count": 7,
   "id": "75508147-3260-485c-b3cd-8d7d5e5e3ac7",
   "metadata": {},
   "outputs": [
    {
     "data": {
      "text/plain": [
       "'Apartamento inteiro em Consolacao'"
      ]
     },
     "execution_count": 7,
     "metadata": {},
     "output_type": "execute_result"
    }
   ],
   "source": [
    "anuncios[1].find('div', class_=\"_b14dlit\").get_text() # tipo imóvel e bairro"
   ]
  },
  {
   "cell_type": "code",
   "execution_count": 8,
   "id": "060f6006-b583-4f8b-97b6-9403e442fb69",
   "metadata": {},
   "outputs": [],
   "source": [
    "tipo_bairro = anuncios[1].find('div', class_=\"_b14dlit\").get_text() # tipo imóvel e bairro"
   ]
  },
  {
   "cell_type": "code",
   "execution_count": 9,
   "id": "53e22305-6433-47de-bf96-e176b35ff90c",
   "metadata": {},
   "outputs": [
    {
     "data": {
      "text/plain": [
       "'Consolacao'"
      ]
     },
     "execution_count": 9,
     "metadata": {},
     "output_type": "execute_result"
    }
   ],
   "source": [
    "tipo_bairro.split(' em ')[1]"
   ]
  },
  {
   "cell_type": "code",
   "execution_count": 10,
   "id": "c1969469-612f-43ce-a8e1-36de70b7d0e8",
   "metadata": {},
   "outputs": [],
   "source": [
    "caracteristicas = anuncios[1].findAll('span', class_=\"_3hmsj\")[2:] # caracteristicas"
   ]
  },
  {
   "cell_type": "code",
   "execution_count": 11,
   "id": "ba4d619f-de06-4a14-b55f-38018d338bf4",
   "metadata": {},
   "outputs": [],
   "source": [
    "lista_caracteristicas = []\n",
    "for caracteristica in caracteristicas:\n",
    "        lista_caracteristicas.append(caracteristica.get_text())"
   ]
  },
  {
   "cell_type": "code",
   "execution_count": 12,
   "id": "f18813db-0f38-4fef-ba8b-0f6043161776",
   "metadata": {},
   "outputs": [
    {
     "data": {
      "text/plain": [
       "['5 hóspedes',\n",
       " 'Estúdio',\n",
       " '3 camas',\n",
       " '1 banheiro',\n",
       " 'Wi-Fi',\n",
       " 'Cozinha',\n",
       " 'Piscina']"
      ]
     },
     "execution_count": 12,
     "metadata": {},
     "output_type": "execute_result"
    }
   ],
   "source": [
    "lista_caracteristicas"
   ]
  },
  {
   "cell_type": "code",
   "execution_count": 13,
   "id": "a368026c-8a8c-4553-879f-00c770f77f85",
   "metadata": {},
   "outputs": [
    {
     "data": {
      "text/plain": [
       "'2 hóspedes'"
      ]
     },
     "execution_count": 13,
     "metadata": {},
     "output_type": "execute_result"
    }
   ],
   "source": [
    "anuncios[0].findAll('span', class_=\"_3hmsj\")[2].get_text() # hospedes"
   ]
  },
  {
   "cell_type": "code",
   "execution_count": 14,
   "id": "ed46b613-2b97-418b-a583-5df8316d2d35",
   "metadata": {},
   "outputs": [
    {
     "data": {
      "text/plain": [
       "'Estúdio'"
      ]
     },
     "execution_count": 14,
     "metadata": {},
     "output_type": "execute_result"
    }
   ],
   "source": [
    "anuncios[0].findAll('span', class_=\"_3hmsj\")[3].get_text() # tipo imóvel"
   ]
  },
  {
   "cell_type": "code",
   "execution_count": 15,
   "id": "efb84fdf-bc94-4025-bd1d-cd55950d28ef",
   "metadata": {},
   "outputs": [
    {
     "data": {
      "text/plain": [
       "'1 cama'"
      ]
     },
     "execution_count": 15,
     "metadata": {},
     "output_type": "execute_result"
    }
   ],
   "source": [
    "anuncios[0].findAll('span', class_=\"_3hmsj\")[4].get_text() # número de camas"
   ]
  },
  {
   "cell_type": "code",
   "execution_count": 16,
   "id": "4aeec419-d896-4881-adf3-fcdb019216ed",
   "metadata": {},
   "outputs": [
    {
     "data": {
      "text/plain": [
       "'1 banheiro'"
      ]
     },
     "execution_count": 16,
     "metadata": {},
     "output_type": "execute_result"
    }
   ],
   "source": [
    "anuncios[0].findAll('span', class_=\"_3hmsj\")[5].get_text() # numero de banheiros"
   ]
  },
  {
   "cell_type": "code",
   "execution_count": 17,
   "id": "450c4302-fdb5-42cd-a322-4a83a3a22001",
   "metadata": {},
   "outputs": [
    {
     "data": {
      "text/plain": [
       "'Wi-Fi'"
      ]
     },
     "execution_count": 17,
     "metadata": {},
     "output_type": "execute_result"
    }
   ],
   "source": [
    "anuncios[0].findAll('span', class_=\"_3hmsj\")[6].get_text() # wi-fi?"
   ]
  },
  {
   "cell_type": "code",
   "execution_count": 18,
   "id": "d764c8b4-64eb-46a9-99fe-9d348812afcc",
   "metadata": {},
   "outputs": [
    {
     "data": {
      "text/plain": [
       "'Cozinha'"
      ]
     },
     "execution_count": 18,
     "metadata": {},
     "output_type": "execute_result"
    }
   ],
   "source": [
    "anuncios[0].findAll('span', class_=\"_3hmsj\")[7].get_text() # cozinha?"
   ]
  },
  {
   "cell_type": "code",
   "execution_count": 19,
   "id": "2593b6bf-b025-4634-8c5e-24360086ee84",
   "metadata": {},
   "outputs": [
    {
     "data": {
      "text/plain": [
       "'Piscina'"
      ]
     },
     "execution_count": 19,
     "metadata": {},
     "output_type": "execute_result"
    }
   ],
   "source": [
    "anuncios[0].findAll('span', class_=\"_3hmsj\")[8].get_text() # piscina?"
   ]
  },
  {
   "cell_type": "code",
   "execution_count": 27,
   "id": "8e32116f-cbdf-4284-a7ff-8cbb3a4e630c",
   "metadata": {},
   "outputs": [
    {
     "data": {
      "text/plain": [
       "<span class=\"_155sga30\">R$100</span>"
      ]
     },
     "execution_count": 27,
     "metadata": {},
     "output_type": "execute_result"
    }
   ],
   "source": [
    "anuncios[0].find('span', class_=\"_155sga30\") # preço"
   ]
  },
  {
   "cell_type": "code",
   "execution_count": 21,
   "id": "2060c2ae-e8bf-4b31-9317-f8869c3874cd",
   "metadata": {},
   "outputs": [
    {
     "data": {
      "text/plain": [
       "'5.0'"
      ]
     },
     "execution_count": 21,
     "metadata": {},
     "output_type": "execute_result"
    }
   ],
   "source": [
    "anuncios[0].find('span', class_=\"_10fy1f8\").get_text() # avaliações"
   ]
  },
  {
   "cell_type": "code",
   "execution_count": 57,
   "id": "d80d5b29-27af-4c20-b2a7-00d72c82733d",
   "metadata": {},
   "outputs": [],
   "source": [
    "lista_titulo = []\n",
    "lista_bairro = []\n",
    "lista_imovel = []\n",
    "lista_hospedes = []\n",
    "lista_quartos = []\n",
    "lista_banheiros = []\n",
    "lista_cozinha = []\n",
    "lista_piscina = []\n",
    "lista_wifi = []\n",
    "lista_preco = []\n",
    "lista_avaliacao = []\n",
    "\n",
    "for i in range(0, len(anuncios)):\n",
    "    lista_caracteristicas = []\n",
    "\n",
    "    anuncio = anuncios[i]\n",
    "\n",
    "    titulo = anuncio.find('meta', itemprop='name').attrs['content']\n",
    "    lista_titulo.append(titulo)\n",
    "    \n",
    "    bairro = anuncio.find('div', class_=\"_b14dlit\").get_text().split(' em ')[0]\n",
    "    lista_bairro.append(bairro)\n",
    "    \n",
    "    tipo_imovel = anuncio.find('div', class_=\"_b14dlit\").get_text().split(' em ')[1]\n",
    "    lista_imovel.append(tipo_imovel)\n",
    "    \n",
    "    caracteristicas =  anuncios[i].findAll('span', class_=\"_3hmsj\")[2:]\n",
    "    for caracteristica in caracteristicas:\n",
    "        lista_caracteristicas.append(caracteristica.get_text())\n",
    "    \n",
    "    for caracteristica in lista_caracteristicas:\n",
    "        if 'hóspedes' or 'hóspede' in caracteristica:\n",
    "            lista_hospedes.append(caracteristica[0])\n",
    "            \n",
    "        if 'quarto' or 'quartos' in caracteristica:\n",
    "            lista_quartos.append(caracteristica[0])\n",
    "        else:\n",
    "            lista_quartos.append(0)\n",
    "            \n",
    "        if 'banheiro' or 'banheiros' in caracteristica:\n",
    "            lista_banheiros.append(caracteristica[0])\n",
    "        else:\n",
    "            lista_banheiros.append(0)\n",
    "            \n",
    "        if 'Cozinha' in caracteristica:\n",
    "            lista_cozinha.append(1)\n",
    "        else:\n",
    "            lista_cozinha.append(0)\n",
    "            \n",
    "        if 'Piscina' in caracteristica:\n",
    "            lista_piscina.append(1)\n",
    "        else:\n",
    "            lista_piscina.append(0)\n",
    "            \n",
    "        if 'Wi-Fi' in caracteristica:\n",
    "            lista_wifi.append(caracteristica[0])\n",
    "        else:\n",
    "            lista_wifi.append(0)\n",
    "            \n",
    "    preco = anuncio.find('span', class_=\"_155sga30\").get_text()\n",
    "    lista_preco.append(preco)\n",
    "    \n",
    "    avaliacao = anuncio.find('span', class_=\"_10fy1f8\")\n",
    "    if avaliacao is not None:\n",
    "        avaliacao = anuncio.find('span', class_=\"_10fy1f8\").get_text()\n",
    "    else:\n",
    "        avaliacao = np.nan\n",
    "    lista_avaliacao.append(avaliacao)"
   ]
  },
  {
   "cell_type": "code",
   "execution_count": 59,
   "id": "f9f0a48d-bfa7-4089-8579-cef7502ede42",
   "metadata": {},
   "outputs": [
    {
     "data": {
      "text/plain": [
       "['2 hóspedes', '1 quarto', '1 cama', '1 banheiro', 'Wi-Fi', 'Cozinha']"
      ]
     },
     "execution_count": 59,
     "metadata": {},
     "output_type": "execute_result"
    }
   ],
   "source": [
    "lista_caracteristicas"
   ]
  },
  {
   "cell_type": "code",
   "execution_count": 58,
   "id": "c389d200-b635-40d2-b17e-064260a6cf99",
   "metadata": {},
   "outputs": [
    {
     "data": {
      "text/plain": [
       "189"
      ]
     },
     "execution_count": 58,
     "metadata": {},
     "output_type": "execute_result"
    }
   ],
   "source": [
    "len(lista_hospedes)"
   ]
  },
  {
   "cell_type": "code",
   "execution_count": 36,
   "id": "ecd31e8a-eb4d-47d4-83c4-4838d8685235",
   "metadata": {},
   "outputs": [
    {
     "ename": "ValueError",
     "evalue": "arrays must all be same length",
     "output_type": "error",
     "traceback": [
      "\u001b[1;31m---------------------------------------------------------------------------\u001b[0m",
      "\u001b[1;31mValueError\u001b[0m                                Traceback (most recent call last)",
      "\u001b[1;32m<ipython-input-36-e36bf5ff4152>\u001b[0m in \u001b[0;36m<module>\u001b[1;34m\u001b[0m\n\u001b[1;32m----> 1\u001b[1;33m dados = pd.DataFrame({'Título': lista_titulo,\n\u001b[0m\u001b[0;32m      2\u001b[0m                       \u001b[1;34m'Preço'\u001b[0m\u001b[1;33m:\u001b[0m \u001b[0mlista_preco\u001b[0m\u001b[1;33m,\u001b[0m\u001b[1;33m\u001b[0m\u001b[1;33m\u001b[0m\u001b[0m\n\u001b[0;32m      3\u001b[0m                       \u001b[1;34m'Avaliação'\u001b[0m\u001b[1;33m:\u001b[0m \u001b[0mlista_avaliacao\u001b[0m\u001b[1;33m,\u001b[0m\u001b[1;33m\u001b[0m\u001b[1;33m\u001b[0m\u001b[0m\n\u001b[0;32m      4\u001b[0m                       \u001b[1;34m'Bairro'\u001b[0m\u001b[1;33m:\u001b[0m \u001b[0mlista_bairro\u001b[0m\u001b[1;33m,\u001b[0m\u001b[1;33m\u001b[0m\u001b[1;33m\u001b[0m\u001b[0m\n\u001b[0;32m      5\u001b[0m                       \u001b[1;34m'Imóvel'\u001b[0m\u001b[1;33m:\u001b[0m \u001b[0mlista_imovel\u001b[0m\u001b[1;33m,\u001b[0m\u001b[1;33m\u001b[0m\u001b[1;33m\u001b[0m\u001b[0m\n",
      "\u001b[1;32m~\\anaconda3\\lib\\site-packages\\pandas\\core\\frame.py\u001b[0m in \u001b[0;36m__init__\u001b[1;34m(self, data, index, columns, dtype, copy)\u001b[0m\n\u001b[0;32m    527\u001b[0m \u001b[1;33m\u001b[0m\u001b[0m\n\u001b[0;32m    528\u001b[0m         \u001b[1;32melif\u001b[0m \u001b[0misinstance\u001b[0m\u001b[1;33m(\u001b[0m\u001b[0mdata\u001b[0m\u001b[1;33m,\u001b[0m \u001b[0mdict\u001b[0m\u001b[1;33m)\u001b[0m\u001b[1;33m:\u001b[0m\u001b[1;33m\u001b[0m\u001b[1;33m\u001b[0m\u001b[0m\n\u001b[1;32m--> 529\u001b[1;33m             \u001b[0mmgr\u001b[0m \u001b[1;33m=\u001b[0m \u001b[0minit_dict\u001b[0m\u001b[1;33m(\u001b[0m\u001b[0mdata\u001b[0m\u001b[1;33m,\u001b[0m \u001b[0mindex\u001b[0m\u001b[1;33m,\u001b[0m \u001b[0mcolumns\u001b[0m\u001b[1;33m,\u001b[0m \u001b[0mdtype\u001b[0m\u001b[1;33m=\u001b[0m\u001b[0mdtype\u001b[0m\u001b[1;33m)\u001b[0m\u001b[1;33m\u001b[0m\u001b[1;33m\u001b[0m\u001b[0m\n\u001b[0m\u001b[0;32m    530\u001b[0m         \u001b[1;32melif\u001b[0m \u001b[0misinstance\u001b[0m\u001b[1;33m(\u001b[0m\u001b[0mdata\u001b[0m\u001b[1;33m,\u001b[0m \u001b[0mma\u001b[0m\u001b[1;33m.\u001b[0m\u001b[0mMaskedArray\u001b[0m\u001b[1;33m)\u001b[0m\u001b[1;33m:\u001b[0m\u001b[1;33m\u001b[0m\u001b[1;33m\u001b[0m\u001b[0m\n\u001b[0;32m    531\u001b[0m             \u001b[1;32mimport\u001b[0m \u001b[0mnumpy\u001b[0m\u001b[1;33m.\u001b[0m\u001b[0mma\u001b[0m\u001b[1;33m.\u001b[0m\u001b[0mmrecords\u001b[0m \u001b[1;32mas\u001b[0m \u001b[0mmrecords\u001b[0m\u001b[1;33m\u001b[0m\u001b[1;33m\u001b[0m\u001b[0m\n",
      "\u001b[1;32m~\\anaconda3\\lib\\site-packages\\pandas\\core\\internals\\construction.py\u001b[0m in \u001b[0;36minit_dict\u001b[1;34m(data, index, columns, dtype)\u001b[0m\n\u001b[0;32m    285\u001b[0m             \u001b[0marr\u001b[0m \u001b[1;32mif\u001b[0m \u001b[1;32mnot\u001b[0m \u001b[0mis_datetime64tz_dtype\u001b[0m\u001b[1;33m(\u001b[0m\u001b[0marr\u001b[0m\u001b[1;33m)\u001b[0m \u001b[1;32melse\u001b[0m \u001b[0marr\u001b[0m\u001b[1;33m.\u001b[0m\u001b[0mcopy\u001b[0m\u001b[1;33m(\u001b[0m\u001b[1;33m)\u001b[0m \u001b[1;32mfor\u001b[0m \u001b[0marr\u001b[0m \u001b[1;32min\u001b[0m \u001b[0marrays\u001b[0m\u001b[1;33m\u001b[0m\u001b[1;33m\u001b[0m\u001b[0m\n\u001b[0;32m    286\u001b[0m         ]\n\u001b[1;32m--> 287\u001b[1;33m     \u001b[1;32mreturn\u001b[0m \u001b[0marrays_to_mgr\u001b[0m\u001b[1;33m(\u001b[0m\u001b[0marrays\u001b[0m\u001b[1;33m,\u001b[0m \u001b[0mdata_names\u001b[0m\u001b[1;33m,\u001b[0m \u001b[0mindex\u001b[0m\u001b[1;33m,\u001b[0m \u001b[0mcolumns\u001b[0m\u001b[1;33m,\u001b[0m \u001b[0mdtype\u001b[0m\u001b[1;33m=\u001b[0m\u001b[0mdtype\u001b[0m\u001b[1;33m)\u001b[0m\u001b[1;33m\u001b[0m\u001b[1;33m\u001b[0m\u001b[0m\n\u001b[0m\u001b[0;32m    288\u001b[0m \u001b[1;33m\u001b[0m\u001b[0m\n\u001b[0;32m    289\u001b[0m \u001b[1;33m\u001b[0m\u001b[0m\n",
      "\u001b[1;32m~\\anaconda3\\lib\\site-packages\\pandas\\core\\internals\\construction.py\u001b[0m in \u001b[0;36marrays_to_mgr\u001b[1;34m(arrays, arr_names, index, columns, dtype, verify_integrity)\u001b[0m\n\u001b[0;32m     78\u001b[0m         \u001b[1;31m# figure out the index, if necessary\u001b[0m\u001b[1;33m\u001b[0m\u001b[1;33m\u001b[0m\u001b[1;33m\u001b[0m\u001b[0m\n\u001b[0;32m     79\u001b[0m         \u001b[1;32mif\u001b[0m \u001b[0mindex\u001b[0m \u001b[1;32mis\u001b[0m \u001b[1;32mNone\u001b[0m\u001b[1;33m:\u001b[0m\u001b[1;33m\u001b[0m\u001b[1;33m\u001b[0m\u001b[0m\n\u001b[1;32m---> 80\u001b[1;33m             \u001b[0mindex\u001b[0m \u001b[1;33m=\u001b[0m \u001b[0mextract_index\u001b[0m\u001b[1;33m(\u001b[0m\u001b[0marrays\u001b[0m\u001b[1;33m)\u001b[0m\u001b[1;33m\u001b[0m\u001b[1;33m\u001b[0m\u001b[0m\n\u001b[0m\u001b[0;32m     81\u001b[0m         \u001b[1;32melse\u001b[0m\u001b[1;33m:\u001b[0m\u001b[1;33m\u001b[0m\u001b[1;33m\u001b[0m\u001b[0m\n\u001b[0;32m     82\u001b[0m             \u001b[0mindex\u001b[0m \u001b[1;33m=\u001b[0m \u001b[0mensure_index\u001b[0m\u001b[1;33m(\u001b[0m\u001b[0mindex\u001b[0m\u001b[1;33m)\u001b[0m\u001b[1;33m\u001b[0m\u001b[1;33m\u001b[0m\u001b[0m\n",
      "\u001b[1;32m~\\anaconda3\\lib\\site-packages\\pandas\\core\\internals\\construction.py\u001b[0m in \u001b[0;36mextract_index\u001b[1;34m(data)\u001b[0m\n\u001b[0;32m    399\u001b[0m             \u001b[0mlengths\u001b[0m \u001b[1;33m=\u001b[0m \u001b[0mlist\u001b[0m\u001b[1;33m(\u001b[0m\u001b[0mset\u001b[0m\u001b[1;33m(\u001b[0m\u001b[0mraw_lengths\u001b[0m\u001b[1;33m)\u001b[0m\u001b[1;33m)\u001b[0m\u001b[1;33m\u001b[0m\u001b[1;33m\u001b[0m\u001b[0m\n\u001b[0;32m    400\u001b[0m             \u001b[1;32mif\u001b[0m \u001b[0mlen\u001b[0m\u001b[1;33m(\u001b[0m\u001b[0mlengths\u001b[0m\u001b[1;33m)\u001b[0m \u001b[1;33m>\u001b[0m \u001b[1;36m1\u001b[0m\u001b[1;33m:\u001b[0m\u001b[1;33m\u001b[0m\u001b[1;33m\u001b[0m\u001b[0m\n\u001b[1;32m--> 401\u001b[1;33m                 \u001b[1;32mraise\u001b[0m \u001b[0mValueError\u001b[0m\u001b[1;33m(\u001b[0m\u001b[1;34m\"arrays must all be same length\"\u001b[0m\u001b[1;33m)\u001b[0m\u001b[1;33m\u001b[0m\u001b[1;33m\u001b[0m\u001b[0m\n\u001b[0m\u001b[0;32m    402\u001b[0m \u001b[1;33m\u001b[0m\u001b[0m\n\u001b[0;32m    403\u001b[0m             \u001b[1;32mif\u001b[0m \u001b[0mhave_dicts\u001b[0m\u001b[1;33m:\u001b[0m\u001b[1;33m\u001b[0m\u001b[1;33m\u001b[0m\u001b[0m\n",
      "\u001b[1;31mValueError\u001b[0m: arrays must all be same length"
     ]
    }
   ],
   "source": [
    "dados = pd.DataFrame({'Título': lista_titulo,\n",
    "                      'Preço': lista_preco,\n",
    "                      'Avaliação': lista_avaliacao,\n",
    "                      'Bairro': lista_bairro,\n",
    "                      'Imóvel': lista_imovel,\n",
    "                      'Hóspedes': lista_hospedes,\n",
    "                      'Quartos':lista_quartos,\n",
    "                      'Banheiros': lista_banheiros,\n",
    "                      'Cozinha': lista_cozinha,\n",
    "                      'Wi_Fi': lista_wifi,\n",
    "                      'Piscina': lista_piscina\n",
    "                     })"
   ]
  },
  {
   "cell_type": "code",
   "execution_count": null,
   "id": "424c4045-235a-4e57-aa13-53a8156c05cb",
   "metadata": {},
   "outputs": [],
   "source": []
  }
 ],
 "metadata": {
  "kernelspec": {
   "display_name": "Python 3",
   "language": "python",
   "name": "python3"
  },
  "language_info": {
   "codemirror_mode": {
    "name": "ipython",
    "version": 3
   },
   "file_extension": ".py",
   "mimetype": "text/x-python",
   "name": "python",
   "nbconvert_exporter": "python",
   "pygments_lexer": "ipython3",
   "version": "3.8.8"
  }
 },
 "nbformat": 4,
 "nbformat_minor": 5
}
