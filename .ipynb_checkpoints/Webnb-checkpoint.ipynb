{
 "cells": [
  {
   "cell_type": "markdown",
   "id": "a2d155d4-0d49-4a51-bed9-b192cc209558",
   "metadata": {},
   "source": [
    "# Projeto Webnb"
   ]
  },
  {
   "cell_type": "markdown",
   "id": "a5dc86b7-65fd-4fdd-ad1e-253c147a2bd3",
   "metadata": {},
   "source": [
    "### Membros: Carolina Hirschheimer, Paulo Kim, Raphael Lahiry"
   ]
  },
  {
   "cell_type": "code",
   "execution_count": 74,
   "id": "02ad916c-87e6-497b-a074-040b33a7c7da",
   "metadata": {},
   "outputs": [],
   "source": [
    "# Bibliotecas úteis \n",
    "from bs4 import BeautifulSoup\n",
    "import requests\n",
    "import pandas as pd\n",
    "import seaborn as sns\n",
    "\n",
    "sns.set()"
   ]
  },
  {
   "cell_type": "markdown",
   "id": "5c9031be-7811-45a6-8053-6aa16b34bd48",
   "metadata": {},
   "source": [
    "Informações a serem buscadas\n",
    "- Título do anúncio\n",
    "- Tipo imóvel \n",
    "- Bairro\n",
    "- Número de hóspedes\n",
    "- Número de quartos\n",
    "- Número de banheiros\n",
    "- Cozinha?\n",
    "- Wi-Fi?\n",
    "- Preço\n",
    "- Avaliação"
   ]
  },
  {
   "cell_type": "markdown",
   "id": "632b9338-edc0-4842-9c3d-cf1453ff8b4d",
   "metadata": {},
   "source": [
    "# Extração dos Dados"
   ]
  },
  {
   "cell_type": "code",
   "execution_count": 44,
   "id": "dcc696ba-4637-4f15-8332-a74e23d9bffd",
   "metadata": {},
   "outputs": [],
   "source": [
    "url = 'https://www.airbnb.com.br/s/S%C3%A3o-Paulo-~-SP/homes?tab_id=home_tab&query=S%C3%A3o%20Paulo%20-%20SP&place_id=ChIJ0WGkg4FEzpQRrlsz_whLqZs&refinement_paths%5B%5D=%2Fhomes&flexible_trip_dates%5B%5D=june&flexible_trip_dates%5B%5D=may&flexible_trip_lengths%5B%5D=weekend_trip&date_picker_type=calendar&disable_auto_translation=false&source=structured_search_input_header&search_type=autocomplete_click'\n",
    "resposta = requests.get(url = url)\n",
    "resposta.encoding = 'utf-8'"
   ]
  },
  {
   "cell_type": "code",
   "execution_count": 71,
   "id": "51d4eb66-95e6-49ea-8a77-012bd71ac248",
   "metadata": {},
   "outputs": [],
   "source": [
    "soup = BeautifulSoup(resposta.text, 'html.parser'); "
   ]
  },
  {
   "cell_type": "code",
   "execution_count": 56,
   "id": "47a955ef-3ac6-408b-966c-1365e154ea65",
   "metadata": {},
   "outputs": [],
   "source": [
    "anuncios = soup.findAll('div', class_='_12oal24'); # infos anuncio"
   ]
  },
  {
   "cell_type": "code",
   "execution_count": 72,
   "id": "a368026c-8a8c-4553-879f-00c770f77f85",
   "metadata": {},
   "outputs": [],
   "source": [
    "soup.findAll('span', class_=\"_3hmsj\"); # caracteristicas"
   ]
  },
  {
   "cell_type": "code",
   "execution_count": 28,
   "id": "8e32116f-cbdf-4284-a7ff-8cbb3a4e630c",
   "metadata": {},
   "outputs": [],
   "source": [
    "soup.findAll('span', class_=\"_155sga30\"); # preço"
   ]
  },
  {
   "cell_type": "code",
   "execution_count": 29,
   "id": "2060c2ae-e8bf-4b31-9317-f8869c3874cd",
   "metadata": {},
   "outputs": [],
   "source": [
    "soup.findAll('span', class_=\"_10fy1f8\"); # avaliações"
   ]
  },
  {
   "cell_type": "code",
   "execution_count": 63,
   "id": "34c22473-95a7-48d4-b320-dc85a11d4e40",
   "metadata": {},
   "outputs": [],
   "source": [
    "soup.findAll('div', class_=\"_b14dlit\"); # tipo imóvel e bairro"
   ]
  },
  {
   "cell_type": "code",
   "execution_count": 67,
   "id": "7468417b-9c67-4d4f-bcfa-c08dd64db3e8",
   "metadata": {},
   "outputs": [],
   "source": [
    "soup.findAll('span', class_=\"_bzh5lkq\"); # titulo anuncio"
   ]
  }
 ],
 "metadata": {
  "kernelspec": {
   "display_name": "Python 3",
   "language": "python",
   "name": "python3"
  },
  "language_info": {
   "codemirror_mode": {
    "name": "ipython",
    "version": 3
   },
   "file_extension": ".py",
   "mimetype": "text/x-python",
   "name": "python",
   "nbconvert_exporter": "python",
   "pygments_lexer": "ipython3",
   "version": "3.8.8"
  }
 },
 "nbformat": 4,
 "nbformat_minor": 5
}
