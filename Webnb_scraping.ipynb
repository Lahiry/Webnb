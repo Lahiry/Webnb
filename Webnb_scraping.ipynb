{
 "cells": [
  {
   "cell_type": "markdown",
   "id": "hired-concentration",
   "metadata": {},
   "source": [
    "# <font color=#ffa500>Projeto Webnb - Extração dos Dados</font>"
   ]
  },
  {
   "cell_type": "markdown",
   "id": "biological-cosmetic",
   "metadata": {},
   "source": [
    "### <font color=#ffa500>Membros: Carolina Hirschheimer, Paulo Kim, Raphael Lahiry</font>"
   ]
  },
  {
   "cell_type": "markdown",
   "id": "raised-pioneer",
   "metadata": {},
   "source": [
    "# <font color=#ffa500>Bibliotecas utilizadas</font>"
   ]
  },
  {
   "cell_type": "code",
   "execution_count": 10,
   "id": "radical-orlando",
   "metadata": {},
   "outputs": [],
   "source": [
    "# Bibliotecas úteis \n",
    "import numpy as np\n",
    "from bs4 import BeautifulSoup\n",
    "import requests\n",
    "import pandas as pd\n",
    "import re\n",
    "from tqdm import tqdm"
   ]
  },
  {
   "cell_type": "markdown",
   "id": "offshore-impossible",
   "metadata": {},
   "source": [
    "# <font color=#ffa500>Extração dos Dados</font>"
   ]
  },
  {
   "cell_type": "code",
   "execution_count": 4,
   "id": "seven-turner",
   "metadata": {},
   "outputs": [
    {
     "name": "stderr",
     "output_type": "stream",
     "text": [
      "Extraindo dados...: 100%|██████████████████████████████████████████████████████████████| 14/14 [00:32<00:00,  2.33s/it]\n"
     ]
    }
   ],
   "source": [
    "# extração dos dados desejados através do web scraping do Airbnb\n",
    "\n",
    "url = 'https://www.airbnb.com.br/s/S%C3%A3o-Paulo-~-SP/homes?tab_id=home_tab&refinement_paths%5B%5D=%2Fhomes&flexible_trip_dates%5B%5D=july&flexible_trip_dates%5B%5D=june&flexible_trip_lengths%5B%5D=weekend_trip&date_picker_type=calendar&query=S%C3%A3o%20Paulo%20-%20SP&place_id=ChIJ0WGkg4FEzpQRrlsz_whLqZs&disable_auto_translation=false&source=structured_search_input_header&search_type=autocomplete_click'\n",
    "resposta = requests.get(url = url)\n",
    "resposta.encoding = 'utf-8'\n",
    "\n",
    "lista_titulo = []\n",
    "lista_bairro = []\n",
    "lista_imovel = []\n",
    "lista_preco = []\n",
    "lista_avaliacao = []\n",
    "lista_caracteristicas = []\n",
    "    \n",
    "for _ in tqdm(range(14), desc = 'Extraindo dados...'):    \n",
    "\n",
    "    soup = BeautifulSoup(resposta.text, 'html.parser')\n",
    "    \n",
    "    anuncios = soup.findAll('div', class_='_8ssblpx') # anúncios\n",
    "\n",
    "    for i in range(0, len(anuncios)):\n",
    "        texto_caracteristicas = []\n",
    "\n",
    "        anuncio = anuncios[i]\n",
    "\n",
    "        titulo = anuncio.find('meta', itemprop='name').attrs['content']\n",
    "        lista_titulo.append(titulo)\n",
    "\n",
    "        bairro = anuncio.find('div', class_=\"_b14dlit\").get_text().split(' em ')[1]\n",
    "        lista_bairro.append(bairro)\n",
    "\n",
    "        tipo_imovel = anuncio.find('div', class_=\"_b14dlit\").get_text().split(' em ')[0]\n",
    "        lista_imovel.append(tipo_imovel)\n",
    "\n",
    "        caracteristicas = anuncio.findAll('span', class_=\"_3hmsj\")[2:]\n",
    "        for caracteristica in caracteristicas:\n",
    "            texto_caracteristicas.append(caracteristica.get_text())\n",
    "        lista_caracteristicas.append(texto_caracteristicas)\n",
    "\n",
    "        preco = int(anuncio.find('span', class_=\"_155sga30\").get_text()[2:])\n",
    "        lista_preco.append(preco)\n",
    "\n",
    "        avaliacao = anuncio.find('span', class_=\"_10fy1f8\")\n",
    "        if avaliacao is not None:\n",
    "            avaliacao = float(anuncio.find('span', class_=\"_10fy1f8\").get_text())\n",
    "        else:\n",
    "            avaliacao = np.nan\n",
    "        lista_avaliacao.append(avaliacao)\n",
    "        \n",
    "    url = 'https://www.airbnb.com.br' + soup.find('a', class_=\"_za9j7e\").attrs['href'] # próxima página\n",
    "    resposta = requests.get(url = url)\n",
    "    resposta.encoding = 'utf-8'"
   ]
  },
  {
   "cell_type": "markdown",
   "id": "detailed-contamination",
   "metadata": {},
   "source": [
    "# <font color=#ffa500>Dataframe</font>"
   ]
  },
  {
   "cell_type": "code",
   "execution_count": 5,
   "id": "handed-ebony",
   "metadata": {},
   "outputs": [],
   "source": [
    "dados = pd.DataFrame({'Título': lista_titulo,\n",
    "                      'Preço (R$)': lista_preco,\n",
    "                      'Avaliação': lista_avaliacao,\n",
    "                      'Bairro': lista_bairro,\n",
    "                      'Imóvel': lista_imovel,\n",
    "                      'Características': lista_caracteristicas\n",
    "                     })"
   ]
  },
  {
   "cell_type": "code",
   "execution_count": 11,
   "id": "lonely-findings",
   "metadata": {},
   "outputs": [
    {
     "data": {
      "text/html": [
       "<div>\n",
       "<style scoped>\n",
       "    .dataframe tbody tr th:only-of-type {\n",
       "        vertical-align: middle;\n",
       "    }\n",
       "\n",
       "    .dataframe tbody tr th {\n",
       "        vertical-align: top;\n",
       "    }\n",
       "\n",
       "    .dataframe thead th {\n",
       "        text-align: right;\n",
       "    }\n",
       "</style>\n",
       "<table border=\"1\" class=\"dataframe\">\n",
       "  <thead>\n",
       "    <tr style=\"text-align: right;\">\n",
       "      <th></th>\n",
       "      <th>Título</th>\n",
       "      <th>Preço (R$)</th>\n",
       "      <th>Avaliação</th>\n",
       "      <th>Bairro</th>\n",
       "      <th>Imóvel</th>\n",
       "      <th>Características</th>\n",
       "    </tr>\n",
       "  </thead>\n",
       "  <tbody>\n",
       "    <tr>\n",
       "      <th>0</th>\n",
       "      <td>FLAT PARTICULAR NO MELIA  - AV. IBIRAPUERA</td>\n",
       "      <td>110</td>\n",
       "      <td>4.90</td>\n",
       "      <td>Indianópolis</td>\n",
       "      <td>Flat inteiro</td>\n",
       "      <td>[2 hóspedes, 1 quarto, 1 cama, 1 banheiro, Wi-...</td>\n",
       "    </tr>\n",
       "    <tr>\n",
       "      <th>1</th>\n",
       "      <td>Studio novinho a 300 m metrô - Self check in</td>\n",
       "      <td>117</td>\n",
       "      <td>4.80</td>\n",
       "      <td>Consolacao</td>\n",
       "      <td>Apartamento inteiro</td>\n",
       "      <td>[5 hóspedes, Estúdio, 3 camas, 1 banheiro, Wi-...</td>\n",
       "    </tr>\n",
       "    <tr>\n",
       "      <th>2</th>\n",
       "      <td>Studio encantador em São Paulo próximo ao metrô</td>\n",
       "      <td>110</td>\n",
       "      <td>4.87</td>\n",
       "      <td>Consolacao</td>\n",
       "      <td>Flat inteiro</td>\n",
       "      <td>[2 hóspedes, 1 quarto, 1 cama, 1 banheiro, Wi-...</td>\n",
       "    </tr>\n",
       "    <tr>\n",
       "      <th>3</th>\n",
       "      <td>Flat mobiliado ao lado do Hospital Sirio Libanês</td>\n",
       "      <td>80</td>\n",
       "      <td>4.61</td>\n",
       "      <td>Bela Vista</td>\n",
       "      <td>Flat inteiro</td>\n",
       "      <td>[2 hóspedes, 1 quarto, 1 cama, 1 banheiro, Wi-...</td>\n",
       "    </tr>\n",
       "    <tr>\n",
       "      <th>4</th>\n",
       "      <td>Suíte moderna com cama de casal no Brooklin</td>\n",
       "      <td>54</td>\n",
       "      <td>4.89</td>\n",
       "      <td>Vila Olímpia</td>\n",
       "      <td>Quarto inteiro</td>\n",
       "      <td>[2 hóspedes, 1 quarto, 1 cama, 1 banheiros pri...</td>\n",
       "    </tr>\n",
       "  </tbody>\n",
       "</table>\n",
       "</div>"
      ],
      "text/plain": [
       "                                             Título  Preço (R$)  Avaliação  \\\n",
       "0        FLAT PARTICULAR NO MELIA  - AV. IBIRAPUERA         110       4.90   \n",
       "1      Studio novinho a 300 m metrô - Self check in         117       4.80   \n",
       "2   Studio encantador em São Paulo próximo ao metrô         110       4.87   \n",
       "3  Flat mobiliado ao lado do Hospital Sirio Libanês          80       4.61   \n",
       "4       Suíte moderna com cama de casal no Brooklin          54       4.89   \n",
       "\n",
       "         Bairro               Imóvel  \\\n",
       "0  Indianópolis         Flat inteiro   \n",
       "1    Consolacao  Apartamento inteiro   \n",
       "2    Consolacao         Flat inteiro   \n",
       "3    Bela Vista         Flat inteiro   \n",
       "4  Vila Olímpia       Quarto inteiro   \n",
       "\n",
       "                                     Características  \n",
       "0  [2 hóspedes, 1 quarto, 1 cama, 1 banheiro, Wi-...  \n",
       "1  [5 hóspedes, Estúdio, 3 camas, 1 banheiro, Wi-...  \n",
       "2  [2 hóspedes, 1 quarto, 1 cama, 1 banheiro, Wi-...  \n",
       "3  [2 hóspedes, 1 quarto, 1 cama, 1 banheiro, Wi-...  \n",
       "4  [2 hóspedes, 1 quarto, 1 cama, 1 banheiros pri...  "
      ]
     },
     "execution_count": 11,
     "metadata": {},
     "output_type": "execute_result"
    }
   ],
   "source": [
    "dados.head()"
   ]
  },
  {
   "cell_type": "code",
   "execution_count": 7,
   "id": "personal-scottish",
   "metadata": {},
   "outputs": [
    {
     "name": "stdout",
     "output_type": "stream",
     "text": [
      "<class 'pandas.core.frame.DataFrame'>\n",
      "RangeIndex: 350 entries, 0 to 349\n",
      "Data columns (total 6 columns):\n",
      " #   Column           Non-Null Count  Dtype  \n",
      "---  ------           --------------  -----  \n",
      " 0   Título           350 non-null    object \n",
      " 1   Preço (R$)       350 non-null    int64  \n",
      " 2   Avaliação        297 non-null    float64\n",
      " 3   Bairro           350 non-null    object \n",
      " 4   Imóvel           350 non-null    object \n",
      " 5   Características  350 non-null    object \n",
      "dtypes: float64(1), int64(1), object(4)\n",
      "memory usage: 16.5+ KB\n"
     ]
    }
   ],
   "source": [
    "dados.info()"
   ]
  },
  {
   "cell_type": "markdown",
   "id": "micro-wrapping",
   "metadata": {},
   "source": [
    "# <font color=#ffa500>Salvando dados em um arquivo csv</font>"
   ]
  },
  {
   "cell_type": "code",
   "execution_count": 8,
   "id": "advanced-partner",
   "metadata": {},
   "outputs": [],
   "source": [
    "#dados.to_csv('dados_anuncios_airbnb.csv', index=False)"
   ]
  }
 ],
 "metadata": {
  "kernelspec": {
   "display_name": "Python 3",
   "language": "python",
   "name": "python3"
  },
  "language_info": {
   "codemirror_mode": {
    "name": "ipython",
    "version": 3
   },
   "file_extension": ".py",
   "mimetype": "text/x-python",
   "name": "python",
   "nbconvert_exporter": "python",
   "pygments_lexer": "ipython3",
   "version": "3.8.8"
  }
 },
 "nbformat": 4,
 "nbformat_minor": 5
}
