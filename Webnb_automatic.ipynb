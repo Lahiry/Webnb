{
 "cells": [
  {
   "cell_type": "markdown",
   "id": "a2d155d4-0d49-4a51-bed9-b192cc209558",
   "metadata": {},
   "source": [
    "# Projeto Webnb"
   ]
  },
  {
   "cell_type": "markdown",
   "id": "a5dc86b7-65fd-4fdd-ad1e-253c147a2bd3",
   "metadata": {},
   "source": [
    "### Membros: Carolina Hirschheimer, Paulo Kim, Raphael Lahiry"
   ]
  },
  {
   "cell_type": "code",
   "execution_count": 1,
   "id": "02ad916c-87e6-497b-a074-040b33a7c7da",
   "metadata": {},
   "outputs": [],
   "source": [
    "# Bibliotecas úteis \n",
    "import numpy as np\n",
    "from bs4 import BeautifulSoup\n",
    "import requests\n",
    "import pandas as pd\n",
    "import seaborn as sns\n",
    "import re\n",
    "\n",
    "sns.set()"
   ]
  },
  {
   "cell_type": "markdown",
   "id": "632b9338-edc0-4842-9c3d-cf1453ff8b4d",
   "metadata": {},
   "source": [
    "# Extração dos Dados"
   ]
  },
  {
   "cell_type": "code",
   "execution_count": 2,
   "id": "a81cb217-5d16-4417-94e5-26ca991a9a0e",
   "metadata": {},
   "outputs": [],
   "source": [
    "lista_titulo = []\n",
    "lista_bairro = []\n",
    "lista_imovel = []\n",
    "lista_preco = []\n",
    "lista_avaliacao = []\n",
    "texto_caracteristicas = []\n",
    "lista_caracteristicas = []\n",
    "\n",
    "url = 'https://www.airbnb.com.br/s/S%C3%A3o-Paulo-~-SP/homes?tab_id=home_tab&query=S%C3%A3o%20Paulo%20-%20SP&place_id=ChIJ0WGkg4FEzpQRrlsz_whLqZs&refinement_paths%5B%5D=%2Fhomes&flexible_trip_dates%5B%5D=june&flexible_trip_dates%5B%5D=may&flexible_trip_lengths%5B%5D=weekend_trip&date_picker_type=calendar&disable_auto_translation=false&source=structured_search_input_header&search_type=autocomplete_click'\n",
    "resposta = requests.get(url = url)\n",
    "resposta.encoding = 'utf-8'\n",
    "\n",
    "for i in range(14):    \n",
    "\n",
    "    soup = BeautifulSoup(resposta.text, 'html.parser')\n",
    "    \n",
    "    anuncios = soup.findAll('div', class_='_8ssblpx') # anúncios\n",
    "\n",
    "\n",
    "    for i in range(0, len(anuncios)):\n",
    "\n",
    "        anuncio = anuncios[i]\n",
    "\n",
    "        titulo = anuncio.find('meta', itemprop='name').attrs['content']\n",
    "        lista_titulo.append(titulo)\n",
    "\n",
    "        bairro = anuncio.find('div', class_=\"_b14dlit\").get_text().split(' em ')[1]\n",
    "        lista_bairro.append(bairro)\n",
    "\n",
    "        tipo_imovel = anuncio.find('div', class_=\"_b14dlit\").get_text().split(' em ')[0]\n",
    "        lista_imovel.append(tipo_imovel)\n",
    "\n",
    "        caracteristicas = anuncio.findAll('span', class_=\"_3hmsj\")[2:]\n",
    "        for caracteristica in caracteristicas:\n",
    "            texto_caracteristicas.append(caracteristica.get_text())\n",
    "        lista_caracteristicas.append(texto_caracteristicas)\n",
    "\n",
    "        preco = int(anuncio.find('span', class_=\"_155sga30\").get_text()[2:])\n",
    "        lista_preco.append(preco)\n",
    "\n",
    "        avaliacao = anuncio.find('span', class_=\"_10fy1f8\")\n",
    "        if avaliacao is not None:\n",
    "            avaliacao = float(anuncio.find('span', class_=\"_10fy1f8\").get_text())\n",
    "        else:\n",
    "            avaliacao = np.nan\n",
    "        lista_avaliacao.append(avaliacao)\n",
    "        \n",
    "    url = 'https://www.airbnb.com.br' + soup.find('a', class_=\"_za9j7e\").attrs['href'] # próxima página\n",
    "    resposta = requests.get(url = url)\n",
    "    resposta.encoding = 'utf-8'"
   ]
  },
  {
   "cell_type": "code",
   "execution_count": 3,
   "id": "c389d200-b635-40d2-b17e-064260a6cf99",
   "metadata": {},
   "outputs": [],
   "source": [
    "dados = pd.DataFrame({'Título': lista_titulo,\n",
    "                      'Preço (R$)': lista_preco,\n",
    "                      'Avaliação': lista_avaliacao,\n",
    "                      'Bairro': lista_bairro,\n",
    "                      'Imóvel': lista_imovel,\n",
    "                      'Características': lista_caracteristicas\n",
    "                     })"
   ]
  },
  {
   "cell_type": "code",
   "execution_count": 4,
   "id": "e094e3c1-1e2d-46d0-9340-59721c48c1e2",
   "metadata": {},
   "outputs": [
    {
     "data": {
      "text/html": [
       "<div>\n",
       "<style scoped>\n",
       "    .dataframe tbody tr th:only-of-type {\n",
       "        vertical-align: middle;\n",
       "    }\n",
       "\n",
       "    .dataframe tbody tr th {\n",
       "        vertical-align: top;\n",
       "    }\n",
       "\n",
       "    .dataframe thead th {\n",
       "        text-align: right;\n",
       "    }\n",
       "</style>\n",
       "<table border=\"1\" class=\"dataframe\">\n",
       "  <thead>\n",
       "    <tr style=\"text-align: right;\">\n",
       "      <th></th>\n",
       "      <th>Título</th>\n",
       "      <th>Preço (R$)</th>\n",
       "      <th>Avaliação</th>\n",
       "      <th>Bairro</th>\n",
       "      <th>Imóvel</th>\n",
       "      <th>Características</th>\n",
       "    </tr>\n",
       "  </thead>\n",
       "  <tbody>\n",
       "    <tr>\n",
       "      <th>0</th>\n",
       "      <td>Suíte aconchegante ao lado do metrô Paraíso</td>\n",
       "      <td>128</td>\n",
       "      <td>4.81</td>\n",
       "      <td>Vila Mariana</td>\n",
       "      <td>Quarto de hotel</td>\n",
       "      <td>[2 hóspedes, 1 quarto, 1 cama, 1 banheiros pri...</td>\n",
       "    </tr>\n",
       "    <tr>\n",
       "      <th>1</th>\n",
       "      <td>Apartamento em Santa Efigênia</td>\n",
       "      <td>54</td>\n",
       "      <td>4.82</td>\n",
       "      <td>Centro</td>\n",
       "      <td>Quarto inteiro</td>\n",
       "      <td>[2 hóspedes, 1 quarto, 1 cama, 1 banheiros pri...</td>\n",
       "    </tr>\n",
       "    <tr>\n",
       "      <th>2</th>\n",
       "      <td>Studio encantador em São Paulo próximo ao metrô</td>\n",
       "      <td>113</td>\n",
       "      <td>4.87</td>\n",
       "      <td>Consolacao</td>\n",
       "      <td>Flat inteiro</td>\n",
       "      <td>[2 hóspedes, 1 quarto, 1 cama, 1 banheiros pri...</td>\n",
       "    </tr>\n",
       "    <tr>\n",
       "      <th>3</th>\n",
       "      <td>Suíte moderna com cama de casal no Brooklin</td>\n",
       "      <td>53</td>\n",
       "      <td>4.89</td>\n",
       "      <td>Vila Olímpia</td>\n",
       "      <td>Quarto inteiro</td>\n",
       "      <td>[2 hóspedes, 1 quarto, 1 cama, 1 banheiros pri...</td>\n",
       "    </tr>\n",
       "    <tr>\n",
       "      <th>4</th>\n",
       "      <td>Studio novinho a 300 m metrô - Self check in</td>\n",
       "      <td>117</td>\n",
       "      <td>4.80</td>\n",
       "      <td>Consolacao</td>\n",
       "      <td>Apartamento inteiro</td>\n",
       "      <td>[2 hóspedes, 1 quarto, 1 cama, 1 banheiros pri...</td>\n",
       "    </tr>\n",
       "  </tbody>\n",
       "</table>\n",
       "</div>"
      ],
      "text/plain": [
       "                                            Título  Preço (R$)  Avaliação  \\\n",
       "0      Suíte aconchegante ao lado do metrô Paraíso         128       4.81   \n",
       "1                    Apartamento em Santa Efigênia          54       4.82   \n",
       "2  Studio encantador em São Paulo próximo ao metrô         113       4.87   \n",
       "3      Suíte moderna com cama de casal no Brooklin          53       4.89   \n",
       "4     Studio novinho a 300 m metrô - Self check in         117       4.80   \n",
       "\n",
       "         Bairro               Imóvel  \\\n",
       "0  Vila Mariana      Quarto de hotel   \n",
       "1        Centro       Quarto inteiro   \n",
       "2    Consolacao         Flat inteiro   \n",
       "3  Vila Olímpia       Quarto inteiro   \n",
       "4    Consolacao  Apartamento inteiro   \n",
       "\n",
       "                                     Características  \n",
       "0  [2 hóspedes, 1 quarto, 1 cama, 1 banheiros pri...  \n",
       "1  [2 hóspedes, 1 quarto, 1 cama, 1 banheiros pri...  \n",
       "2  [2 hóspedes, 1 quarto, 1 cama, 1 banheiros pri...  \n",
       "3  [2 hóspedes, 1 quarto, 1 cama, 1 banheiros pri...  \n",
       "4  [2 hóspedes, 1 quarto, 1 cama, 1 banheiros pri...  "
      ]
     },
     "execution_count": 4,
     "metadata": {},
     "output_type": "execute_result"
    }
   ],
   "source": [
    "dados.head()"
   ]
  },
  {
   "cell_type": "code",
   "execution_count": 5,
   "id": "56b0785c-3c3b-4789-821d-371d53240344",
   "metadata": {},
   "outputs": [
    {
     "name": "stdout",
     "output_type": "stream",
     "text": [
      "<class 'pandas.core.frame.DataFrame'>\n",
      "RangeIndex: 340 entries, 0 to 339\n",
      "Data columns (total 6 columns):\n",
      " #   Column           Non-Null Count  Dtype  \n",
      "---  ------           --------------  -----  \n",
      " 0   Título           340 non-null    object \n",
      " 1   Preço (R$)       340 non-null    int64  \n",
      " 2   Avaliação        288 non-null    float64\n",
      " 3   Bairro           340 non-null    object \n",
      " 4   Imóvel           340 non-null    object \n",
      " 5   Características  340 non-null    object \n",
      "dtypes: float64(1), int64(1), object(4)\n",
      "memory usage: 16.1+ KB\n"
     ]
    }
   ],
   "source": [
    "dados.info()"
   ]
  },
  {
   "cell_type": "code",
   "execution_count": null,
   "id": "af786592-43a5-43c6-be1f-24fcc121237b",
   "metadata": {},
   "outputs": [],
   "source": []
  }
 ],
 "metadata": {
  "kernelspec": {
   "display_name": "Python 3",
   "language": "python",
   "name": "python3"
  },
  "language_info": {
   "codemirror_mode": {
    "name": "ipython",
    "version": 3
   },
   "file_extension": ".py",
   "mimetype": "text/x-python",
   "name": "python",
   "nbconvert_exporter": "python",
   "pygments_lexer": "ipython3",
   "version": "3.8.8"
  }
 },
 "nbformat": 4,
 "nbformat_minor": 5
}
