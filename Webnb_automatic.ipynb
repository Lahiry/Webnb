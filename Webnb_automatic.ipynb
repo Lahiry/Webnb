{
 "cells": [
  {
   "cell_type": "markdown",
   "metadata": {},
   "source": [
    "# Projeto Webnb"
   ]
  },
  {
   "cell_type": "markdown",
   "metadata": {},
   "source": [
    "### Membros: Carolina Hirschheimer, Paulo Kim, Raphael Lahiry"
   ]
  },
  {
   "cell_type": "code",
   "execution_count": 1,
   "metadata": {},
   "outputs": [],
   "source": [
    "# Bibliotecas úteis \n",
    "import numpy as np\n",
    "from bs4 import BeautifulSoup\n",
    "import requests\n",
    "import pandas as pd\n",
    "import seaborn as sns\n",
    "import re\n",
    "from tqdm import tqdm\n",
    "from time import sleep\n",
    "\n",
    "\n",
    "sns.set()"
   ]
  },
  {
   "cell_type": "markdown",
   "metadata": {},
   "source": [
    "# Extração dos Dados"
   ]
  },
  {
   "cell_type": "code",
   "execution_count": 2,
   "metadata": {},
   "outputs": [
    {
     "name": "stderr",
     "output_type": "stream",
     "text": [
      "Extraindo dados...: 100%|████████████████████████████████████████████████████████████████| 5/5 [00:08<00:00,  1.65s/it]\n"
     ]
    }
   ],
   "source": [
    "\n",
    "\n",
    "url = 'https://www.airbnb.com.br/s/S%C3%A3o-Paulo-~-SP/homes?tab_id=home_tab&query=S%C3%A3o%20Paulo%20-%20SP&place_id=ChIJ0WGkg4FEzpQRrlsz_whLqZs&refinement_paths%5B%5D=%2Fhomes&flexible_trip_dates%5B%5D=june&flexible_trip_dates%5B%5D=may&flexible_trip_lengths%5B%5D=weekend_trip&date_picker_type=calendar&disable_auto_translation=false&source=structured_search_input_header&search_type=autocomplete_click'\n",
    "resposta = requests.get(url = url)\n",
    "resposta.encoding = 'utf-8'\n",
    "\n",
    "for i in tqdm(range(0,5), desc = 'Extraindo dados...'):    \n",
    "    \n",
    "    lista_titulo = []\n",
    "    lista_bairro = []\n",
    "    lista_imovel = []\n",
    "    lista_preco = []\n",
    "    lista_avaliacao = []\n",
    "    lista_caracteristicas = []\n",
    "\n",
    "    soup = BeautifulSoup(resposta.text, 'html.parser')\n",
    "    \n",
    "    anuncios = soup.findAll('div', class_='_8ssblpx') # anúncios\n",
    "\n",
    "\n",
    "    for i in range(0, len(anuncios)):\n",
    "        texto_caracteristicas = []\n",
    "\n",
    "        anuncio = anuncios[i]\n",
    "\n",
    "        titulo = anuncio.find('meta', itemprop='name').attrs['content']\n",
    "        lista_titulo.append(titulo)\n",
    "\n",
    "        bairro = anuncio.find('div', class_=\"_b14dlit\").get_text().split(' em ')[1]\n",
    "        lista_bairro.append(bairro)\n",
    "\n",
    "        tipo_imovel = anuncio.find('div', class_=\"_b14dlit\").get_text().split(' em ')[0]\n",
    "        lista_imovel.append(tipo_imovel)\n",
    "\n",
    "        caracteristicas = anuncio.findAll('span', class_=\"_3hmsj\")[2:]\n",
    "        for caracteristica in caracteristicas:\n",
    "            texto_caracteristicas.append(caracteristica.get_text())\n",
    "        lista_caracteristicas.append(texto_caracteristicas)\n",
    "\n",
    "        preco = int(anuncio.find('span', class_=\"_155sga30\").get_text()[2:])\n",
    "        lista_preco.append(preco)\n",
    "\n",
    "        avaliacao = anuncio.find('span', class_=\"_10fy1f8\")\n",
    "        if avaliacao is not None:\n",
    "            avaliacao = float(anuncio.find('span', class_=\"_10fy1f8\").get_text())\n",
    "        else:\n",
    "            avaliacao = np.nan\n",
    "        lista_avaliacao.append(avaliacao)\n",
    "        \n",
    "    url = 'https://www.airbnb.com.br' + soup.find('a', class_=\"_za9j7e\").attrs['href'] # próxima página\n",
    "    resposta = requests.get(url = url)\n",
    "    resposta.encoding = 'utf-8'"
   ]
  },
  {
   "cell_type": "code",
   "execution_count": 3,
   "metadata": {},
   "outputs": [
    {
     "data": {
      "text/plain": [
       "[['2 hóspedes',\n",
       "  '1 quarto',\n",
       "  '1 cama',\n",
       "  '1 banheiro',\n",
       "  'Wi-Fi',\n",
       "  'Estacionamento gratuito',\n",
       "  'Cozinha',\n",
       "  'Piscina'],\n",
       " ['4 hóspedes', '2 quartos', '2 camas', '1 banheiro', 'Wi-Fi', 'Cozinha'],\n",
       " ['2 hóspedes',\n",
       "  '1 quarto',\n",
       "  '1 cama',\n",
       "  '1 banheiro',\n",
       "  'Wi-Fi',\n",
       "  'Cozinha',\n",
       "  'Piscina'],\n",
       " ['2 hóspedes',\n",
       "  '1 quarto',\n",
       "  '1 cama',\n",
       "  '1 banheiro',\n",
       "  'Wi-Fi',\n",
       "  'Cozinha',\n",
       "  'Piscina'],\n",
       " ['2 hóspedes', '1 quarto', '1 cama', '1 banheiro', 'Wi-Fi', 'Piscina'],\n",
       " ['2 hóspedes',\n",
       "  'Estúdio',\n",
       "  '1 cama',\n",
       "  '1 banheiro',\n",
       "  'Wi-Fi',\n",
       "  'Cozinha',\n",
       "  'Piscina'],\n",
       " ['2 hóspedes',\n",
       "  '1 quarto',\n",
       "  '1 cama',\n",
       "  '1 banheiro e meio',\n",
       "  'Wi-Fi',\n",
       "  'Estacionamento gratuito',\n",
       "  'Cozinha',\n",
       "  'Piscina'],\n",
       " ['2 hóspedes',\n",
       "  '1 quarto',\n",
       "  '1 cama',\n",
       "  '1 banheiro',\n",
       "  'Wi-Fi',\n",
       "  'Cozinha',\n",
       "  'Piscina'],\n",
       " ['2 hóspedes',\n",
       "  '1 quarto',\n",
       "  '1 cama',\n",
       "  '1 banheiro',\n",
       "  'Wi-Fi',\n",
       "  'Cozinha',\n",
       "  'Piscina'],\n",
       " ['2 hóspedes', '1 quarto', '1 cama', '1 banheiro', 'Wi-Fi', 'Piscina'],\n",
       " ['3 hóspedes',\n",
       "  '1 quarto',\n",
       "  '2 camas',\n",
       "  '1 banheiro',\n",
       "  'Wi-Fi',\n",
       "  'Estacionamento gratuito',\n",
       "  'Cozinha',\n",
       "  'Piscina'],\n",
       " ['2 hóspedes',\n",
       "  '1 quarto',\n",
       "  '1 cama',\n",
       "  '1 banheiro e meio',\n",
       "  'Wi-Fi',\n",
       "  'Estacionamento gratuito',\n",
       "  'Cozinha',\n",
       "  'Piscina'],\n",
       " ['2 hóspedes', '1 quarto', '1 cama', '1 banheiro', 'Wi-Fi', 'Cozinha'],\n",
       " ['2 hóspedes',\n",
       "  '1 quarto',\n",
       "  '1 cama',\n",
       "  '1 banheiro',\n",
       "  'Wi-Fi',\n",
       "  'Estacionamento gratuito',\n",
       "  'Cozinha',\n",
       "  'Piscina'],\n",
       " ['2 hóspedes', '1 quarto', '1 cama', '1 banheiro', 'Wi-Fi', 'Cozinha'],\n",
       " ['2 hóspedes',\n",
       "  'Estúdio',\n",
       "  '1 cama',\n",
       "  '1 banheiro',\n",
       "  'Wi-Fi',\n",
       "  'Estacionamento gratuito',\n",
       "  'Cozinha',\n",
       "  'Piscina'],\n",
       " ['2 hóspedes',\n",
       "  '1 quarto',\n",
       "  '1 cama',\n",
       "  '1 banheiro',\n",
       "  'Wi-Fi',\n",
       "  'Estacionamento gratuito',\n",
       "  'Cozinha',\n",
       "  'Piscina'],\n",
       " ['4 hóspedes',\n",
       "  '1 quarto',\n",
       "  '1 cama',\n",
       "  '1 banheiro',\n",
       "  'Wi-Fi',\n",
       "  'Cozinha',\n",
       "  'Piscina'],\n",
       " ['2 hóspedes', '1 quarto', '1 cama', '1 banheiro', 'Wi-Fi'],\n",
       " ['2 hóspedes',\n",
       "  '1 quarto',\n",
       "  '1 cama',\n",
       "  '1 banheiro',\n",
       "  'Wi-Fi',\n",
       "  'Estacionamento gratuito',\n",
       "  'Cozinha',\n",
       "  'Piscina']]"
      ]
     },
     "execution_count": 3,
     "metadata": {},
     "output_type": "execute_result"
    }
   ],
   "source": [
    "lista_caracteristicas"
   ]
  },
  {
   "cell_type": "code",
   "execution_count": 4,
   "metadata": {},
   "outputs": [],
   "source": [
    "dados = pd.DataFrame({'Título': lista_titulo,\n",
    "                      'Preço (R$)': lista_preco,\n",
    "                      'Avaliação': lista_avaliacao,\n",
    "                      'Bairro': lista_bairro,\n",
    "                      'Imóvel': lista_imovel,\n",
    "                      'Características': lista_caracteristicas\n",
    "                     })"
   ]
  },
  {
   "cell_type": "code",
   "execution_count": 5,
   "metadata": {},
   "outputs": [
    {
     "data": {
      "text/html": [
       "<div>\n",
       "<style scoped>\n",
       "    .dataframe tbody tr th:only-of-type {\n",
       "        vertical-align: middle;\n",
       "    }\n",
       "\n",
       "    .dataframe tbody tr th {\n",
       "        vertical-align: top;\n",
       "    }\n",
       "\n",
       "    .dataframe thead th {\n",
       "        text-align: right;\n",
       "    }\n",
       "</style>\n",
       "<table border=\"1\" class=\"dataframe\">\n",
       "  <thead>\n",
       "    <tr style=\"text-align: right;\">\n",
       "      <th></th>\n",
       "      <th>Título</th>\n",
       "      <th>Preço (R$)</th>\n",
       "      <th>Avaliação</th>\n",
       "      <th>Bairro</th>\n",
       "      <th>Imóvel</th>\n",
       "      <th>Características</th>\n",
       "    </tr>\n",
       "  </thead>\n",
       "  <tbody>\n",
       "    <tr>\n",
       "      <th>0</th>\n",
       "      <td>Casa Estúdio Próx Av Paulista</td>\n",
       "      <td>137</td>\n",
       "      <td>4.82</td>\n",
       "      <td>Consolacao</td>\n",
       "      <td>Loft inteiro</td>\n",
       "      <td>[2 hóspedes, 1 quarto, 1 cama, 1 banheiro, Wi-...</td>\n",
       "    </tr>\n",
       "    <tr>\n",
       "      <th>1</th>\n",
       "      <td>Apartamento Completo 10 min do Brás e 25 de março</td>\n",
       "      <td>70</td>\n",
       "      <td>4.84</td>\n",
       "      <td>Campos Elíseos</td>\n",
       "      <td>Apartamento inteiro</td>\n",
       "      <td>[4 hóspedes, 2 quartos, 2 camas, 1 banheiro, W...</td>\n",
       "    </tr>\n",
       "    <tr>\n",
       "      <th>2</th>\n",
       "      <td>Studio Downtown São Luís -Centro de SP (C/Gara...</td>\n",
       "      <td>121</td>\n",
       "      <td>4.96</td>\n",
       "      <td>República</td>\n",
       "      <td>Apartamento inteiro</td>\n",
       "      <td>[2 hóspedes, 1 quarto, 1 cama, 1 banheiro, Wi-...</td>\n",
       "    </tr>\n",
       "    <tr>\n",
       "      <th>3</th>\n",
       "      <td>Studio deslumbrante em São Paulo próximo ao metrô</td>\n",
       "      <td>110</td>\n",
       "      <td>4.92</td>\n",
       "      <td>República</td>\n",
       "      <td>Flat inteiro</td>\n",
       "      <td>[2 hóspedes, 1 quarto, 1 cama, 1 banheiro, Wi-...</td>\n",
       "    </tr>\n",
       "    <tr>\n",
       "      <th>4</th>\n",
       "      <td>Estúdio no Centro com Varanda, Wi-Fi &amp; Smart-T...</td>\n",
       "      <td>77</td>\n",
       "      <td>4.82</td>\n",
       "      <td>Sé</td>\n",
       "      <td>Condomínio inteiro</td>\n",
       "      <td>[2 hóspedes, 1 quarto, 1 cama, 1 banheiro, Wi-...</td>\n",
       "    </tr>\n",
       "  </tbody>\n",
       "</table>\n",
       "</div>"
      ],
      "text/plain": [
       "                                              Título  Preço (R$)  Avaliação  \\\n",
       "0                      Casa Estúdio Próx Av Paulista         137       4.82   \n",
       "1  Apartamento Completo 10 min do Brás e 25 de março          70       4.84   \n",
       "2  Studio Downtown São Luís -Centro de SP (C/Gara...         121       4.96   \n",
       "3  Studio deslumbrante em São Paulo próximo ao metrô         110       4.92   \n",
       "4  Estúdio no Centro com Varanda, Wi-Fi & Smart-T...          77       4.82   \n",
       "\n",
       "           Bairro               Imóvel  \\\n",
       "0      Consolacao         Loft inteiro   \n",
       "1  Campos Elíseos  Apartamento inteiro   \n",
       "2       República  Apartamento inteiro   \n",
       "3       República         Flat inteiro   \n",
       "4              Sé   Condomínio inteiro   \n",
       "\n",
       "                                     Características  \n",
       "0  [2 hóspedes, 1 quarto, 1 cama, 1 banheiro, Wi-...  \n",
       "1  [4 hóspedes, 2 quartos, 2 camas, 1 banheiro, W...  \n",
       "2  [2 hóspedes, 1 quarto, 1 cama, 1 banheiro, Wi-...  \n",
       "3  [2 hóspedes, 1 quarto, 1 cama, 1 banheiro, Wi-...  \n",
       "4  [2 hóspedes, 1 quarto, 1 cama, 1 banheiro, Wi-...  "
      ]
     },
     "execution_count": 5,
     "metadata": {},
     "output_type": "execute_result"
    }
   ],
   "source": [
    "dados.head()"
   ]
  },
  {
   "cell_type": "code",
   "execution_count": 6,
   "metadata": {},
   "outputs": [
    {
     "name": "stdout",
     "output_type": "stream",
     "text": [
      "<class 'pandas.core.frame.DataFrame'>\n",
      "RangeIndex: 20 entries, 0 to 19\n",
      "Data columns (total 6 columns):\n",
      " #   Column           Non-Null Count  Dtype  \n",
      "---  ------           --------------  -----  \n",
      " 0   Título           20 non-null     object \n",
      " 1   Preço (R$)       20 non-null     int64  \n",
      " 2   Avaliação        19 non-null     float64\n",
      " 3   Bairro           20 non-null     object \n",
      " 4   Imóvel           20 non-null     object \n",
      " 5   Características  20 non-null     object \n",
      "dtypes: float64(1), int64(1), object(4)\n",
      "memory usage: 1.1+ KB\n"
     ]
    }
   ],
   "source": [
    "dados.info()"
   ]
  },
  {
   "cell_type": "code",
   "execution_count": 7,
   "metadata": {},
   "outputs": [
    {
     "data": {
      "text/plain": [
       "['2 hóspedes',\n",
       " '1 quarto',\n",
       " '1 cama',\n",
       " '1 banheiro',\n",
       " 'Wi-Fi',\n",
       " 'Estacionamento gratuito',\n",
       " 'Cozinha',\n",
       " 'Piscina']"
      ]
     },
     "execution_count": 7,
     "metadata": {},
     "output_type": "execute_result"
    }
   ],
   "source": [
    "dados['Características'][0]"
   ]
  },
  {
   "cell_type": "code",
   "execution_count": null,
   "metadata": {},
   "outputs": [],
   "source": []
  }
 ],
 "metadata": {
  "kernelspec": {
   "display_name": "Python 3",
   "language": "python",
   "name": "python3"
  },
  "language_info": {
   "codemirror_mode": {
    "name": "ipython",
    "version": 3
   },
   "file_extension": ".py",
   "mimetype": "text/x-python",
   "name": "python",
   "nbconvert_exporter": "python",
   "pygments_lexer": "ipython3",
   "version": "3.8.3"
  }
 },
 "nbformat": 4,
 "nbformat_minor": 5
}
