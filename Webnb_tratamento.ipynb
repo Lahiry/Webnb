{
 "cells": [
  {
   "cell_type": "markdown",
   "metadata": {},
   "source": [
    "# <font color=#ffa500>Tratamento dos dados coletados</font>"
   ]
  },
  {
   "cell_type": "code",
   "execution_count": 3,
   "metadata": {},
   "outputs": [],
   "source": [
    "import pandas as pd \n",
    "import re "
   ]
  },
  {
   "cell_type": "code",
   "execution_count": 4,
   "metadata": {},
   "outputs": [],
   "source": [
    "data = pd.read_csv(\"dados_anuncios_airbnb.csv\")"
   ]
  },
  {
   "cell_type": "code",
   "execution_count": 5,
   "metadata": {},
   "outputs": [
    {
     "data": {
      "text/html": [
       "<div>\n",
       "<style scoped>\n",
       "    .dataframe tbody tr th:only-of-type {\n",
       "        vertical-align: middle;\n",
       "    }\n",
       "\n",
       "    .dataframe tbody tr th {\n",
       "        vertical-align: top;\n",
       "    }\n",
       "\n",
       "    .dataframe thead th {\n",
       "        text-align: right;\n",
       "    }\n",
       "</style>\n",
       "<table border=\"1\" class=\"dataframe\">\n",
       "  <thead>\n",
       "    <tr style=\"text-align: right;\">\n",
       "      <th></th>\n",
       "      <th>Título</th>\n",
       "      <th>Preço (R$)</th>\n",
       "      <th>Avaliação</th>\n",
       "      <th>Bairro</th>\n",
       "      <th>Imóvel</th>\n",
       "      <th>Características</th>\n",
       "    </tr>\n",
       "  </thead>\n",
       "  <tbody>\n",
       "    <tr>\n",
       "      <th>0</th>\n",
       "      <td>FLAT PARTICULAR NO MELIA  - AV. IBIRAPUERA</td>\n",
       "      <td>110</td>\n",
       "      <td>4.90</td>\n",
       "      <td>Indianópolis</td>\n",
       "      <td>Flat inteiro</td>\n",
       "      <td>['2 hóspedes', '1 quarto', '1 cama', '1 banhei...</td>\n",
       "    </tr>\n",
       "    <tr>\n",
       "      <th>1</th>\n",
       "      <td>Studio novinho a 300 m metrô - Self check in</td>\n",
       "      <td>117</td>\n",
       "      <td>4.80</td>\n",
       "      <td>Consolacao</td>\n",
       "      <td>Apartamento inteiro</td>\n",
       "      <td>['5 hóspedes', 'Estúdio', '3 camas', '1 banhei...</td>\n",
       "    </tr>\n",
       "    <tr>\n",
       "      <th>2</th>\n",
       "      <td>Studio encantador em São Paulo próximo ao metrô</td>\n",
       "      <td>110</td>\n",
       "      <td>4.87</td>\n",
       "      <td>Consolacao</td>\n",
       "      <td>Flat inteiro</td>\n",
       "      <td>['2 hóspedes', '1 quarto', '1 cama', '1 banhei...</td>\n",
       "    </tr>\n",
       "    <tr>\n",
       "      <th>3</th>\n",
       "      <td>Flat mobiliado ao lado do Hospital Sirio Libanês</td>\n",
       "      <td>80</td>\n",
       "      <td>4.61</td>\n",
       "      <td>Bela Vista</td>\n",
       "      <td>Flat inteiro</td>\n",
       "      <td>['2 hóspedes', '1 quarto', '1 cama', '1 banhei...</td>\n",
       "    </tr>\n",
       "    <tr>\n",
       "      <th>4</th>\n",
       "      <td>Suíte moderna com cama de casal no Brooklin</td>\n",
       "      <td>54</td>\n",
       "      <td>4.89</td>\n",
       "      <td>Vila Olímpia</td>\n",
       "      <td>Quarto inteiro</td>\n",
       "      <td>['2 hóspedes', '1 quarto', '1 cama', '1 banhei...</td>\n",
       "    </tr>\n",
       "    <tr>\n",
       "      <th>...</th>\n",
       "      <td>...</td>\n",
       "      <td>...</td>\n",
       "      <td>...</td>\n",
       "      <td>...</td>\n",
       "      <td>...</td>\n",
       "      <td>...</td>\n",
       "    </tr>\n",
       "    <tr>\n",
       "      <th>345</th>\n",
       "      <td>Sky Paulicéia - CasApp Centro Histórico SP 510</td>\n",
       "      <td>111</td>\n",
       "      <td>4.82</td>\n",
       "      <td>Centro</td>\n",
       "      <td>Apartamento inteiro</td>\n",
       "      <td>['2 hóspedes', '1 quarto', '1 cama', '1 banhei...</td>\n",
       "    </tr>\n",
       "    <tr>\n",
       "      <th>346</th>\n",
       "      <td>Studio Casal Mobiliado - Butantã</td>\n",
       "      <td>90</td>\n",
       "      <td>NaN</td>\n",
       "      <td>Ferreira</td>\n",
       "      <td>Condomínio inteiro</td>\n",
       "      <td>['2 hóspedes', '1 quarto', '1 banheiro', 'Wi-F...</td>\n",
       "    </tr>\n",
       "    <tr>\n",
       "      <th>347</th>\n",
       "      <td>Freg do Ó /5Mint  Marg/Fácil  acesso Allianz Park</td>\n",
       "      <td>72</td>\n",
       "      <td>4.88</td>\n",
       "      <td>Nossa Senhora do O</td>\n",
       "      <td>Casa inteira</td>\n",
       "      <td>['6 hóspedes', '2 quartos', '2 camas', '1 banh...</td>\n",
       "    </tr>\n",
       "    <tr>\n",
       "      <th>348</th>\n",
       "      <td>STD 1401. BEM-VINDO AO NOVO CENTRO DE SÃO PAULO!</td>\n",
       "      <td>107</td>\n",
       "      <td>4.75</td>\n",
       "      <td>República</td>\n",
       "      <td>Apartamento inteiro</td>\n",
       "      <td>['5 hóspedes', '1 quarto', '1 cama', '1 banhei...</td>\n",
       "    </tr>\n",
       "    <tr>\n",
       "      <th>349</th>\n",
       "      <td>S170 - Novo e aconchegante próximo a Av Paulista!</td>\n",
       "      <td>131</td>\n",
       "      <td>4.95</td>\n",
       "      <td>Consolacao</td>\n",
       "      <td>Loft inteiro</td>\n",
       "      <td>['2 hóspedes', '1 quarto', '2 camas', '1 banhe...</td>\n",
       "    </tr>\n",
       "  </tbody>\n",
       "</table>\n",
       "<p>350 rows × 6 columns</p>\n",
       "</div>"
      ],
      "text/plain": [
       "                                                Título  Preço (R$)  Avaliação  \\\n",
       "0           FLAT PARTICULAR NO MELIA  - AV. IBIRAPUERA         110       4.90   \n",
       "1         Studio novinho a 300 m metrô - Self check in         117       4.80   \n",
       "2      Studio encantador em São Paulo próximo ao metrô         110       4.87   \n",
       "3     Flat mobiliado ao lado do Hospital Sirio Libanês          80       4.61   \n",
       "4          Suíte moderna com cama de casal no Brooklin          54       4.89   \n",
       "..                                                 ...         ...        ...   \n",
       "345     Sky Paulicéia - CasApp Centro Histórico SP 510         111       4.82   \n",
       "346                   Studio Casal Mobiliado - Butantã          90        NaN   \n",
       "347  Freg do Ó /5Mint  Marg/Fácil  acesso Allianz Park          72       4.88   \n",
       "348   STD 1401. BEM-VINDO AO NOVO CENTRO DE SÃO PAULO!         107       4.75   \n",
       "349  S170 - Novo e aconchegante próximo a Av Paulista!         131       4.95   \n",
       "\n",
       "                 Bairro               Imóvel  \\\n",
       "0          Indianópolis         Flat inteiro   \n",
       "1            Consolacao  Apartamento inteiro   \n",
       "2            Consolacao         Flat inteiro   \n",
       "3            Bela Vista         Flat inteiro   \n",
       "4          Vila Olímpia       Quarto inteiro   \n",
       "..                  ...                  ...   \n",
       "345              Centro  Apartamento inteiro   \n",
       "346            Ferreira   Condomínio inteiro   \n",
       "347  Nossa Senhora do O         Casa inteira   \n",
       "348           República  Apartamento inteiro   \n",
       "349          Consolacao         Loft inteiro   \n",
       "\n",
       "                                       Características  \n",
       "0    ['2 hóspedes', '1 quarto', '1 cama', '1 banhei...  \n",
       "1    ['5 hóspedes', 'Estúdio', '3 camas', '1 banhei...  \n",
       "2    ['2 hóspedes', '1 quarto', '1 cama', '1 banhei...  \n",
       "3    ['2 hóspedes', '1 quarto', '1 cama', '1 banhei...  \n",
       "4    ['2 hóspedes', '1 quarto', '1 cama', '1 banhei...  \n",
       "..                                                 ...  \n",
       "345  ['2 hóspedes', '1 quarto', '1 cama', '1 banhei...  \n",
       "346  ['2 hóspedes', '1 quarto', '1 banheiro', 'Wi-F...  \n",
       "347  ['6 hóspedes', '2 quartos', '2 camas', '1 banh...  \n",
       "348  ['5 hóspedes', '1 quarto', '1 cama', '1 banhei...  \n",
       "349  ['2 hóspedes', '1 quarto', '2 camas', '1 banhe...  \n",
       "\n",
       "[350 rows x 6 columns]"
      ]
     },
     "execution_count": 5,
     "metadata": {},
     "output_type": "execute_result"
    }
   ],
   "source": [
    "data"
   ]
  },
  {
   "cell_type": "markdown",
   "metadata": {},
   "source": [
    "## <font color=#ffa500>Funções para destrinchar as listas da coluna característica em várias colunas</font>"
   ]
  },
  {
   "cell_type": "code",
   "execution_count": 6,
   "metadata": {},
   "outputs": [],
   "source": [
    "def findQtd(txt, palavra):\n",
    "    \n",
    "    search = re.findall(r'(\\d+) {}'.format(palavra), str(txt), flags = re.IGNORECASE)\n",
    "    \n",
    "    if len(search) != 0:\n",
    "        return int(search[0])\n",
    "    else:\n",
    "        return 0"
   ]
  },
  {
   "cell_type": "code",
   "execution_count": 7,
   "metadata": {},
   "outputs": [],
   "source": [
    "def findFeature(txt, palavra):\n",
    "    \n",
    "    search = re.findall(r'{}'.format(palavra), str(txt), flags = re.IGNORECASE)\n",
    "    \n",
    "    if len(search) != 0:\n",
    "        return \"Tem\"\n",
    "    else:\n",
    "        return \"Não tem\""
   ]
  },
  {
   "cell_type": "code",
   "execution_count": 8,
   "metadata": {},
   "outputs": [
    {
     "data": {
      "text/plain": [
       "1     32\n",
       "2    240\n",
       "3     32\n",
       "4     35\n",
       "5      7\n",
       "6      4\n",
       "Name: Características, dtype: int64"
      ]
     },
     "execution_count": 8,
     "metadata": {},
     "output_type": "execute_result"
    }
   ],
   "source": [
    "hospedes = data['Características'].apply(findQtd, palavra = 'hóspede')\n",
    "hospedes.value_counts().sort_index()"
   ]
  },
  {
   "cell_type": "code",
   "execution_count": 9,
   "metadata": {},
   "outputs": [
    {
     "data": {
      "text/plain": [
       "0     15\n",
       "1    262\n",
       "2     50\n",
       "3     20\n",
       "4      3\n",
       "Name: Características, dtype: int64"
      ]
     },
     "execution_count": 9,
     "metadata": {},
     "output_type": "execute_result"
    }
   ],
   "source": [
    "camas = data['Características'].apply(findQtd, palavra = 'cama')\n",
    "camas.value_counts().sort_index()"
   ]
  },
  {
   "cell_type": "code",
   "execution_count": 10,
   "metadata": {},
   "outputs": [
    {
     "data": {
      "text/plain": [
       "0     67\n",
       "1    272\n",
       "2      9\n",
       "4      2\n",
       "Name: Características, dtype: int64"
      ]
     },
     "execution_count": 10,
     "metadata": {},
     "output_type": "execute_result"
    }
   ],
   "source": [
    "quartos = data['Características'].apply(findQtd, palavra = 'quarto')\n",
    "quartos.value_counts().sort_index()"
   ]
  },
  {
   "cell_type": "code",
   "execution_count": 11,
   "metadata": {},
   "outputs": [
    {
     "data": {
      "text/plain": [
       "0      4\n",
       "1    327\n",
       "2     18\n",
       "3      1\n",
       "Name: Características, dtype: int64"
      ]
     },
     "execution_count": 11,
     "metadata": {},
     "output_type": "execute_result"
    }
   ],
   "source": [
    "banheiros = data['Características'].apply(findQtd, palavra = 'banheiro')\n",
    "banheiros.value_counts().sort_index()"
   ]
  },
  {
   "cell_type": "code",
   "execution_count": 12,
   "metadata": {},
   "outputs": [
    {
     "data": {
      "text/plain": [
       "Tem        284\n",
       "Não tem     66\n",
       "Name: Características, dtype: int64"
      ]
     },
     "execution_count": 12,
     "metadata": {},
     "output_type": "execute_result"
    }
   ],
   "source": [
    "cozinha = data['Características'].apply(findFeature, palavra = 'cozinha')\n",
    "cozinha.value_counts()"
   ]
  },
  {
   "cell_type": "code",
   "execution_count": 13,
   "metadata": {},
   "outputs": [
    {
     "data": {
      "text/plain": [
       "Tem        340\n",
       "Não tem     10\n",
       "Name: Características, dtype: int64"
      ]
     },
     "execution_count": 13,
     "metadata": {},
     "output_type": "execute_result"
    }
   ],
   "source": [
    "wifi = data['Características'].apply(findFeature, palavra = 'Wi-Fi')\n",
    "wifi.value_counts()"
   ]
  },
  {
   "cell_type": "code",
   "execution_count": 14,
   "metadata": {},
   "outputs": [
    {
     "data": {
      "text/plain": [
       "Tem        212\n",
       "Não tem    138\n",
       "Name: Características, dtype: int64"
      ]
     },
     "execution_count": 14,
     "metadata": {},
     "output_type": "execute_result"
    }
   ],
   "source": [
    "piscina = data['Características'].apply(findFeature, palavra = 'piscina')\n",
    "piscina.value_counts()"
   ]
  },
  {
   "cell_type": "code",
   "execution_count": 15,
   "metadata": {},
   "outputs": [],
   "source": [
    "data['Hóspedes'] = hospedes\n",
    "data['Camas'] = camas\n",
    "data['Quartos'] = quartos\n",
    "data['Banheiros'] = banheiros\n",
    "data['Cozinha'] = cozinha\n",
    "data['Wi-Fi'] = wifi\n",
    "data['Piscina'] = piscina"
   ]
  },
  {
   "cell_type": "code",
   "execution_count": 16,
   "metadata": {},
   "outputs": [],
   "source": [
    "data.drop(columns = 'Características', inplace = True)"
   ]
  },
  {
   "cell_type": "code",
   "execution_count": 17,
   "metadata": {},
   "outputs": [
    {
     "data": {
      "text/html": [
       "<div>\n",
       "<style scoped>\n",
       "    .dataframe tbody tr th:only-of-type {\n",
       "        vertical-align: middle;\n",
       "    }\n",
       "\n",
       "    .dataframe tbody tr th {\n",
       "        vertical-align: top;\n",
       "    }\n",
       "\n",
       "    .dataframe thead th {\n",
       "        text-align: right;\n",
       "    }\n",
       "</style>\n",
       "<table border=\"1\" class=\"dataframe\">\n",
       "  <thead>\n",
       "    <tr style=\"text-align: right;\">\n",
       "      <th></th>\n",
       "      <th>Título</th>\n",
       "      <th>Preço (R$)</th>\n",
       "      <th>Avaliação</th>\n",
       "      <th>Bairro</th>\n",
       "      <th>Imóvel</th>\n",
       "      <th>Hóspedes</th>\n",
       "      <th>Camas</th>\n",
       "      <th>Quartos</th>\n",
       "      <th>Banheiros</th>\n",
       "      <th>Cozinha</th>\n",
       "      <th>Wi-Fi</th>\n",
       "      <th>Piscina</th>\n",
       "    </tr>\n",
       "  </thead>\n",
       "  <tbody>\n",
       "    <tr>\n",
       "      <th>0</th>\n",
       "      <td>FLAT PARTICULAR NO MELIA  - AV. IBIRAPUERA</td>\n",
       "      <td>110</td>\n",
       "      <td>4.90</td>\n",
       "      <td>Indianópolis</td>\n",
       "      <td>Flat inteiro</td>\n",
       "      <td>2</td>\n",
       "      <td>1</td>\n",
       "      <td>1</td>\n",
       "      <td>1</td>\n",
       "      <td>Tem</td>\n",
       "      <td>Tem</td>\n",
       "      <td>Tem</td>\n",
       "    </tr>\n",
       "    <tr>\n",
       "      <th>1</th>\n",
       "      <td>Studio novinho a 300 m metrô - Self check in</td>\n",
       "      <td>117</td>\n",
       "      <td>4.80</td>\n",
       "      <td>Consolacao</td>\n",
       "      <td>Apartamento inteiro</td>\n",
       "      <td>5</td>\n",
       "      <td>3</td>\n",
       "      <td>0</td>\n",
       "      <td>1</td>\n",
       "      <td>Tem</td>\n",
       "      <td>Tem</td>\n",
       "      <td>Tem</td>\n",
       "    </tr>\n",
       "    <tr>\n",
       "      <th>2</th>\n",
       "      <td>Studio encantador em São Paulo próximo ao metrô</td>\n",
       "      <td>110</td>\n",
       "      <td>4.87</td>\n",
       "      <td>Consolacao</td>\n",
       "      <td>Flat inteiro</td>\n",
       "      <td>2</td>\n",
       "      <td>1</td>\n",
       "      <td>1</td>\n",
       "      <td>1</td>\n",
       "      <td>Tem</td>\n",
       "      <td>Tem</td>\n",
       "      <td>Tem</td>\n",
       "    </tr>\n",
       "    <tr>\n",
       "      <th>3</th>\n",
       "      <td>Flat mobiliado ao lado do Hospital Sirio Libanês</td>\n",
       "      <td>80</td>\n",
       "      <td>4.61</td>\n",
       "      <td>Bela Vista</td>\n",
       "      <td>Flat inteiro</td>\n",
       "      <td>2</td>\n",
       "      <td>1</td>\n",
       "      <td>1</td>\n",
       "      <td>1</td>\n",
       "      <td>Tem</td>\n",
       "      <td>Tem</td>\n",
       "      <td>Não tem</td>\n",
       "    </tr>\n",
       "    <tr>\n",
       "      <th>4</th>\n",
       "      <td>Suíte moderna com cama de casal no Brooklin</td>\n",
       "      <td>54</td>\n",
       "      <td>4.89</td>\n",
       "      <td>Vila Olímpia</td>\n",
       "      <td>Quarto inteiro</td>\n",
       "      <td>2</td>\n",
       "      <td>1</td>\n",
       "      <td>1</td>\n",
       "      <td>1</td>\n",
       "      <td>Tem</td>\n",
       "      <td>Tem</td>\n",
       "      <td>Não tem</td>\n",
       "    </tr>\n",
       "    <tr>\n",
       "      <th>...</th>\n",
       "      <td>...</td>\n",
       "      <td>...</td>\n",
       "      <td>...</td>\n",
       "      <td>...</td>\n",
       "      <td>...</td>\n",
       "      <td>...</td>\n",
       "      <td>...</td>\n",
       "      <td>...</td>\n",
       "      <td>...</td>\n",
       "      <td>...</td>\n",
       "      <td>...</td>\n",
       "      <td>...</td>\n",
       "    </tr>\n",
       "    <tr>\n",
       "      <th>345</th>\n",
       "      <td>Sky Paulicéia - CasApp Centro Histórico SP 510</td>\n",
       "      <td>111</td>\n",
       "      <td>4.82</td>\n",
       "      <td>Centro</td>\n",
       "      <td>Apartamento inteiro</td>\n",
       "      <td>2</td>\n",
       "      <td>1</td>\n",
       "      <td>1</td>\n",
       "      <td>1</td>\n",
       "      <td>Tem</td>\n",
       "      <td>Tem</td>\n",
       "      <td>Tem</td>\n",
       "    </tr>\n",
       "    <tr>\n",
       "      <th>346</th>\n",
       "      <td>Studio Casal Mobiliado - Butantã</td>\n",
       "      <td>90</td>\n",
       "      <td>NaN</td>\n",
       "      <td>Ferreira</td>\n",
       "      <td>Condomínio inteiro</td>\n",
       "      <td>2</td>\n",
       "      <td>0</td>\n",
       "      <td>1</td>\n",
       "      <td>1</td>\n",
       "      <td>Tem</td>\n",
       "      <td>Tem</td>\n",
       "      <td>Não tem</td>\n",
       "    </tr>\n",
       "    <tr>\n",
       "      <th>347</th>\n",
       "      <td>Freg do Ó /5Mint  Marg/Fácil  acesso Allianz Park</td>\n",
       "      <td>72</td>\n",
       "      <td>4.88</td>\n",
       "      <td>Nossa Senhora do O</td>\n",
       "      <td>Casa inteira</td>\n",
       "      <td>6</td>\n",
       "      <td>2</td>\n",
       "      <td>2</td>\n",
       "      <td>1</td>\n",
       "      <td>Tem</td>\n",
       "      <td>Tem</td>\n",
       "      <td>Não tem</td>\n",
       "    </tr>\n",
       "    <tr>\n",
       "      <th>348</th>\n",
       "      <td>STD 1401. BEM-VINDO AO NOVO CENTRO DE SÃO PAULO!</td>\n",
       "      <td>107</td>\n",
       "      <td>4.75</td>\n",
       "      <td>República</td>\n",
       "      <td>Apartamento inteiro</td>\n",
       "      <td>5</td>\n",
       "      <td>1</td>\n",
       "      <td>1</td>\n",
       "      <td>1</td>\n",
       "      <td>Tem</td>\n",
       "      <td>Tem</td>\n",
       "      <td>Tem</td>\n",
       "    </tr>\n",
       "    <tr>\n",
       "      <th>349</th>\n",
       "      <td>S170 - Novo e aconchegante próximo a Av Paulista!</td>\n",
       "      <td>131</td>\n",
       "      <td>4.95</td>\n",
       "      <td>Consolacao</td>\n",
       "      <td>Loft inteiro</td>\n",
       "      <td>2</td>\n",
       "      <td>2</td>\n",
       "      <td>1</td>\n",
       "      <td>1</td>\n",
       "      <td>Tem</td>\n",
       "      <td>Tem</td>\n",
       "      <td>Tem</td>\n",
       "    </tr>\n",
       "  </tbody>\n",
       "</table>\n",
       "<p>350 rows × 12 columns</p>\n",
       "</div>"
      ],
      "text/plain": [
       "                                                Título  Preço (R$)  Avaliação  \\\n",
       "0           FLAT PARTICULAR NO MELIA  - AV. IBIRAPUERA         110       4.90   \n",
       "1         Studio novinho a 300 m metrô - Self check in         117       4.80   \n",
       "2      Studio encantador em São Paulo próximo ao metrô         110       4.87   \n",
       "3     Flat mobiliado ao lado do Hospital Sirio Libanês          80       4.61   \n",
       "4          Suíte moderna com cama de casal no Brooklin          54       4.89   \n",
       "..                                                 ...         ...        ...   \n",
       "345     Sky Paulicéia - CasApp Centro Histórico SP 510         111       4.82   \n",
       "346                   Studio Casal Mobiliado - Butantã          90        NaN   \n",
       "347  Freg do Ó /5Mint  Marg/Fácil  acesso Allianz Park          72       4.88   \n",
       "348   STD 1401. BEM-VINDO AO NOVO CENTRO DE SÃO PAULO!         107       4.75   \n",
       "349  S170 - Novo e aconchegante próximo a Av Paulista!         131       4.95   \n",
       "\n",
       "                 Bairro               Imóvel  Hóspedes  Camas  Quartos  \\\n",
       "0          Indianópolis         Flat inteiro         2      1        1   \n",
       "1            Consolacao  Apartamento inteiro         5      3        0   \n",
       "2            Consolacao         Flat inteiro         2      1        1   \n",
       "3            Bela Vista         Flat inteiro         2      1        1   \n",
       "4          Vila Olímpia       Quarto inteiro         2      1        1   \n",
       "..                  ...                  ...       ...    ...      ...   \n",
       "345              Centro  Apartamento inteiro         2      1        1   \n",
       "346            Ferreira   Condomínio inteiro         2      0        1   \n",
       "347  Nossa Senhora do O         Casa inteira         6      2        2   \n",
       "348           República  Apartamento inteiro         5      1        1   \n",
       "349          Consolacao         Loft inteiro         2      2        1   \n",
       "\n",
       "     Banheiros Cozinha Wi-Fi  Piscina  \n",
       "0            1     Tem   Tem      Tem  \n",
       "1            1     Tem   Tem      Tem  \n",
       "2            1     Tem   Tem      Tem  \n",
       "3            1     Tem   Tem  Não tem  \n",
       "4            1     Tem   Tem  Não tem  \n",
       "..         ...     ...   ...      ...  \n",
       "345          1     Tem   Tem      Tem  \n",
       "346          1     Tem   Tem  Não tem  \n",
       "347          1     Tem   Tem  Não tem  \n",
       "348          1     Tem   Tem      Tem  \n",
       "349          1     Tem   Tem      Tem  \n",
       "\n",
       "[350 rows x 12 columns]"
      ]
     },
     "execution_count": 17,
     "metadata": {},
     "output_type": "execute_result"
    }
   ],
   "source": [
    "data"
   ]
  },
  {
   "cell_type": "markdown",
   "metadata": {},
   "source": [
    "## <font color=#ffa500>Salvando dados em arquivo csv</font>"
   ]
  },
  {
   "cell_type": "code",
   "execution_count": 16,
   "metadata": {},
   "outputs": [],
   "source": [
    "# data.to_csv('dados_anuncios_airbnb_tratados.csv', index=False)"
   ]
  }
 ],
 "metadata": {
  "kernelspec": {
   "display_name": "Python 3",
   "language": "python",
   "name": "python3"
  },
  "language_info": {
   "codemirror_mode": {
    "name": "ipython",
    "version": 3
   },
   "file_extension": ".py",
   "mimetype": "text/x-python",
   "name": "python",
   "nbconvert_exporter": "python",
   "pygments_lexer": "ipython3",
   "version": "3.8.8"
  }
 },
 "nbformat": 4,
 "nbformat_minor": 4
}
